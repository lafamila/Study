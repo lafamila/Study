{
 "cells": [
  {
   "cell_type": "markdown",
   "metadata": {
    "collapsed": true
   },
   "source": [
    "# <숫자형 변수와 연산자>\n",
    "\n",
    "### - 변수 (Variable) : 변할 수 있는 값\n",
    "\n",
    "변수에 값을 대입할 때는 <b>이름 = 값</b> 의 형식을 사용한다.\n",
    "\n",
    "다음은 <b>a</b> 라는 <b>이름</b>의 <b>변수</b>에 <b>1</b> 이라는 <b>값</b>을 대입하는 예제."
   ]
  },
  {
   "cell_type": "code",
   "execution_count": 2,
   "metadata": {},
   "outputs": [],
   "source": [
    "a = 1"
   ]
  },
  {
   "cell_type": "markdown",
   "metadata": {},
   "source": [
    "대입한 변수의 값과 타입을 확인해보자."
   ]
  },
  {
   "cell_type": "code",
   "execution_count": 3,
   "metadata": {},
   "outputs": [
    {
     "name": "stdout",
     "output_type": "stream",
     "text": [
      "1\n",
      "<class 'int'>\n"
     ]
    }
   ],
   "source": [
    "print(a)\n",
    "print(type(a))"
   ]
  },
  {
   "cell_type": "markdown",
   "metadata": {},
   "source": [
    "a 라는 변수의 값은 1, 그 타입은 int 임을 확인할 수 있다.\n",
    "\n",
    "###  - 타입 (Type) : 여러가지 자료의 형태\n",
    "파이썬에서는 타입의 형태를 따로 지정할 필요는 없지만, 숫자형 데이터의 경우 값을 대입하면 자동으로 그 형태를 결정한다.\n",
    "#### 정수형(Integer, int)\n",
    "예 : 0, 5, -200, ...\n",
    "#### 실수형(Floating-point, float)\n",
    "예 ; 3.1415, -0.1, 3.4e10\n",
    "#### 8진수(Octal) \n",
    "예 : 0o25, 0O34\n",
    "#### 16진수(Hexadecimal)\n",
    "예 : 0x2A, 0xFF"
   ]
  },
  {
   "cell_type": "code",
   "execution_count": 4,
   "metadata": {},
   "outputs": [],
   "source": [
    "i = -5\n",
    "f = 3.4e10\n",
    "o = 0o25\n",
    "h = 0x2A"
   ]
  },
  {
   "cell_type": "code",
   "execution_count": 5,
   "metadata": {},
   "outputs": [
    {
     "name": "stdout",
     "output_type": "stream",
     "text": [
      "-5\n",
      "34000000000.0\n",
      "21\n",
      "42\n"
     ]
    }
   ],
   "source": [
    "print(i)\n",
    "print(f)\n",
    "print(o)\n",
    "print(h)"
   ]
  },
  {
   "cell_type": "markdown",
   "metadata": {},
   "source": [
    "###  - 사칙연산\n",
    "숫자형 데이터간의 다양한 연산자를 이용해 데이터끼리 연산을 수행할 수 있다."
   ]
  },
  {
   "cell_type": "code",
   "execution_count": 6,
   "metadata": {
    "scrolled": true
   },
   "outputs": [
    {
     "name": "stdout",
     "output_type": "stream",
     "text": [
      "7\n",
      "-1\n",
      "12\n",
      "0.75\n"
     ]
    }
   ],
   "source": [
    "a = 3\n",
    "b = 4\n",
    "\n",
    "print(a+b)\n",
    "print(a-b)\n",
    "print(a*b)\n",
    "print(a/b)"
   ]
  },
  {
   "cell_type": "markdown",
   "metadata": {},
   "source": [
    "###  - 그 외의 연산자\n",
    "** : x의 y제곱을 구하는 연산자<br>\n",
    "%  : x를 y로 나눈 나머지를 구하는 연산자<br>\n",
    "// : x를 y로 나눈 몫을 구하는 연산자"
   ]
  },
  {
   "cell_type": "code",
   "execution_count": 7,
   "metadata": {},
   "outputs": [
    {
     "name": "stdout",
     "output_type": "stream",
     "text": [
      "1000\n",
      "1\n",
      "3\n"
     ]
    }
   ],
   "source": [
    "a = 10\n",
    "b = 3\n",
    "\n",
    "print(a**b)\n",
    "print(a%b)\n",
    "print(a//b)"
   ]
  },
  {
   "cell_type": "code",
   "execution_count": null,
   "metadata": {},
   "outputs": [],
   "source": []
  }
 ],
 "metadata": {
  "kernelspec": {
   "display_name": "Python 3",
   "language": "python",
   "name": "python3"
  },
  "language_info": {
   "codemirror_mode": {
    "name": "ipython",
    "version": 3
   },
   "file_extension": ".py",
   "mimetype": "text/x-python",
   "name": "python",
   "nbconvert_exporter": "python",
   "pygments_lexer": "ipython3",
   "version": "3.6.2"
  }
 },
 "nbformat": 4,
 "nbformat_minor": 1
}
