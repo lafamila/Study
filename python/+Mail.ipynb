{
 "cells": [
  {
   "cell_type": "markdown",
   "metadata": {},
   "source": [
    "# Must accept SMPT in mail server"
   ]
  },
  {
   "cell_type": "code",
   "execution_count": 4,
   "metadata": {
    "collapsed": false
   },
   "outputs": [],
   "source": [
    "import smtplib\n",
    "from email.MIMEMultipart import MIMEMultipart  \n",
    "from email.MIMEBase import MIMEBase  \n",
    "from email.MIMEText import MIMEText  \n",
    "from email import Encoders  \n",
    "from email import Utils  \n",
    "from email.header import Header  \n",
    "import os\n",
    "\n",
    "smtp_server  = \"smtp.naver.com\"  \n",
    "#smtp_server = \"smtp.daum.net\"\n",
    "port = 587\n",
    "#port = 465\n",
    "userid = \"terran_sk\"  \n",
    "passwd = \"5280123a\"\n",
    "\n",
    "def send_mail(from_user, to_user, cc_users, subject, text, attach):  \n",
    "        COMMASPACE = \", \"\n",
    "        msg = MIMEMultipart(\"alternative\")\n",
    "        msg[\"From\"] = from_user\n",
    "        msg[\"To\"] = to_user\n",
    "        msg[\"Cc\"] = COMMASPACE.join(cc_users)\n",
    "        msg[\"Subject\"] = Header(s=subject, charset=\"utf-8\")\n",
    "        msg[\"Date\"] = Utils.formatdate(localtime = 1)\n",
    "        msg.attach(MIMEText(text, \"html\", _charset=\"utf-8\"))\n",
    "\n",
    "        if (attach != None):\n",
    "                part = MIMEBase(\"application\", \"octet-stream\")\n",
    "                part.set_payload(open(attach, \"rb\").read())\n",
    "                Encoders.encode_base64(part)\n",
    "                part.add_header(\"Content-Disposition\", \"attachment; filename=\\\"%s\\\"\" % os.path.basename(attach))\n",
    "                msg.attach(part)\n",
    "\n",
    "        smtp = smtplib.SMTP(smtp_server, port)\n",
    "        smtp.starttls()\n",
    "        smtp.login(userid, passwd)\n",
    "        smtp.sendmail(from_user, cc_users, msg.as_string())\n",
    "        smtp.close()"
   ]
  },
  {
   "cell_type": "code",
   "execution_count": 5,
   "metadata": {
    "collapsed": false
   },
   "outputs": [],
   "source": [
    "send_mail(\"terran_sk@naver.com\", \"lafamila@naver.com\", [\"lafamila@naver.com\"], \"Hello! Test!\", \"this is test\", None)"
   ]
  },
  {
   "cell_type": "code",
   "execution_count": null,
   "metadata": {
    "collapsed": true
   },
   "outputs": [],
   "source": [
    "print(\"a\")"
   ]
  }
 ],
 "metadata": {
  "kernelspec": {
   "display_name": "Python 2",
   "language": "python",
   "name": "python2"
  },
  "language_info": {
   "codemirror_mode": {
    "name": "ipython",
    "version": 2
   },
   "file_extension": ".py",
   "mimetype": "text/x-python",
   "name": "python",
   "nbconvert_exporter": "python",
   "pygments_lexer": "ipython2",
   "version": "2.7.13"
  }
 },
 "nbformat": 4,
 "nbformat_minor": 2
}
