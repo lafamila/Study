{
 "cells": [
  {
   "cell_type": "markdown",
   "metadata": {},
   "source": [
    "# Module\n",
    "### Module 사용하기 - 외부 library\n",
    "\n",
    "아나콘다를 설치하면서 많은 library가 자동으로 설치되는데, 이 라이브러리를 module로 사용할 수 있다.\n",
    "#library란 특정 기능에 관련된 함수의 묶음이며, module이란 그 내용이 숨겨진 채로 사용 가능한 함수 몇개의 묶음을 의미한다. 즉, library란 특정 기능에 관련된 몇 module의 묶음으로 구성되어있다. python에서는 특정 기능을 수행하는 파이썬 파일의 묶음을 library, library 내부의 각각의 파이썬 파일을 module 이라고 한다.\n",
    "<br><br>\n",
    "라이브러리는 <b>import</b> 라는 keyword를 통해 사용하며, <b>as</b>나 <b>from</b>과 같은 keyword를 활용하여 더 쉽게 사용 가능하다."
   ]
  },
  {
   "cell_type": "code",
   "execution_count": 1,
   "metadata": {},
   "outputs": [],
   "source": [
    "import requests\n",
    "\n",
    "source = requests.get(\"http://www.naver.com\")\n",
    "#print source.text"
   ]
  },
  {
   "cell_type": "code",
   "execution_count": 14,
   "metadata": {},
   "outputs": [
    {
     "name": "stdout",
     "output_type": "stream",
     "text": [
      "<class 'bs4.BeautifulSoup'>\n",
      "오버워치 월드컵\n"
     ]
    }
   ],
   "source": [
    "from bs4 import BeautifulSoup\n",
    "soup = BeautifulSoup(source.text, 'html.parser')\n",
    "print(type(BeautifulSoup(source.text, 'html.parser')))\n",
    "x = soup.find_all('span', {'class' : 'ah_k'})\n",
    "print(x[1].text)"
   ]
  },
  {
   "cell_type": "code",
   "execution_count": 5,
   "metadata": {},
   "outputs": [],
   "source": [
    "import pickle as pk\n",
    "\n",
    "y = [1, 2, 3, 4]\n",
    "f = open(\"./pickle_example.txt\", \"wb\")\n",
    "\n",
    "pk.dump(y, f)"
   ]
  },
  {
   "cell_type": "markdown",
   "metadata": {},
   "source": [
    "# Class\n",
    "### Class 란? - 붕어빵 틀\n",
    "\n",
    "기존의 int, str 등 여러 변수 타입은 그 변수타입만이 할 수 있는 메소드들을 가지고 있었다. (ex - list.append())<br>\n",
    "class란 내가 사용할 변수 타입을 정의하면서 동시에 그 변수타입만이 할 수 있는 메소드를 정의한 것이다."
   ]
  },
  {
   "cell_type": "code",
   "execution_count": 8,
   "metadata": {},
   "outputs": [],
   "source": [
    "class person:\n",
    "    def __init__(self):\n",
    "        self.name=\"아직 이름이 없습니다.\"\n",
    "        self.age = 0\n",
    "    def up(self):\n",
    "        self.age += 1\n",
    "        "
   ]
  },
  {
   "cell_type": "code",
   "execution_count": 15,
   "metadata": {},
   "outputs": [
    {
     "name": "stdout",
     "output_type": "stream",
     "text": [
      "아직 이름이 없습니다.\n",
      "0\n",
      "이경민\n",
      "23\n",
      "24\n",
      "아직 이름이 없습니다.\n",
      "0\n"
     ]
    }
   ],
   "source": [
    "a = person()\n",
    "\n",
    "print(a.name)\n",
    "print(a.age)\n",
    "\n",
    "a.name=\"이경민\"\n",
    "a.age=23\n",
    "\n",
    "print(a.name)\n",
    "print(a.age)\n",
    "\n",
    "a.up()\n",
    "print(a.age)\n",
    "\n",
    "\n",
    "b = person()\n",
    "\n",
    "print(b.name)\n",
    "print(b.age)"
   ]
  },
  {
   "cell_type": "markdown",
   "metadata": {},
   "source": [
    "# if \\_\\_name\\_\\_ == '\\_\\_main\\_\\_':\n",
    "\n",
    "### python script가 실행되었을때 기준\n",
    "\n",
    "기존까지는 python script를 그냥 작성하면 위에서부터 아래로 실행되었다.\n",
    "if \\_\\_name\\_\\_ == '\\_\\_main\\_\\_': 은 python script의 실행시작점을 의미하는데, 왜 이런걸 사용할까?\n",
    "\n",
    "이는 import 할때를 대비하기 위함이다. 즉, script1.py 에서 작성된 코드를 script2.py 에서 import 하는 경우, script1.py 의 코드가 바로 실행되어버리는데, 이를 방지하기 위해 import 가 아닌, 직접 실행한 파일의 소스코드만 실행하도록 하기 위해 사용한다."
   ]
  },
  {
   "cell_type": "code",
   "execution_count": 16,
   "metadata": {},
   "outputs": [
    {
     "name": "stdout",
     "output_type": "stream",
     "text": [
      "hello! this is script1\n"
     ]
    }
   ],
   "source": [
    "# script1.py\n",
    "\n",
    "def script1_print_hello():\n",
    "    print(\"hello! this is script1\")\n",
    "\n",
    "script1_print_hello()"
   ]
  },
  {
   "cell_type": "code",
   "execution_count": null,
   "metadata": {},
   "outputs": [],
   "source": [
    "# script2.py\n",
    "\n",
    "import script1"
   ]
  },
  {
   "cell_type": "markdown",
   "metadata": {},
   "source": [
    "위 두개의 python script를 실행하면, script1_print_hello() 함수를 사용하기위해 script1.py를 import한 script2.py는 바로 hello! this is script1을 출력할 것이다. (함수를 사용하지 않았음에도)\n",
    "\n",
    "이를 방지하기 위해, script1.py는 다음과 같이 작성하는것을 권장한다."
   ]
  },
  {
   "cell_type": "code",
   "execution_count": 21,
   "metadata": {},
   "outputs": [
    {
     "name": "stdout",
     "output_type": "stream",
     "text": [
      "hello! this is script1\n"
     ]
    }
   ],
   "source": [
    "# script1.py\n",
    "\n",
    "def script1_print_hello():\n",
    "    print(\"hello! this is script1\")\n",
    "\n",
    "if __name__ == '__main__':\n",
    "    script1_print_hello()"
   ]
  }
 ],
 "metadata": {
  "anaconda-cloud": {},
  "kernelspec": {
   "display_name": "Python 3",
   "language": "python",
   "name": "python3"
  },
  "language_info": {
   "codemirror_mode": {
    "name": "ipython",
    "version": 3
   },
   "file_extension": ".py",
   "mimetype": "text/x-python",
   "name": "python",
   "nbconvert_exporter": "python",
   "pygments_lexer": "ipython3",
   "version": "3.6.2"
  }
 },
 "nbformat": 4,
 "nbformat_minor": 1
}
