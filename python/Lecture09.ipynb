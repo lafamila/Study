{
 "cells": [
  {
   "cell_type": "markdown",
   "metadata": {},
   "source": [
    "# Module\n",
    "### Module 사용하기 - 외부 library\n",
    "\n",
    "아나콘다를 설치하면서 많은 library가 자동으로 설치되는데, 이 라이브러리를 module로 사용할 수 있다.\n",
    "#library란 특정 기능에 관련된 함수의 묶음이며, module이란 그 내용이 숨겨진 채로 사용 가능한 함수 몇개의 묶음을 의미한다. 즉, library란 특정 기능에 관련된 몇 module의 묶음으로 구성되어있다. python에서는 특정 기능을 수행하는 파이썬 파일의 묶음을 library, library 내부의 각각의 파이썬 파일을 module 이라고 한다.\n",
    "<br><br>\n",
    "라이브러리는 <b>import</b> 라는 keyword를 통해 사용하며, <b>as</b>나 <b>from</b>과 같은 keyword를 활용하여 더 쉽게 사용 가능하다."
   ]
  },
  {
   "cell_type": "code",
   "execution_count": 3,
   "metadata": {
    "collapsed": false
   },
   "outputs": [],
   "source": [
    "import requests\n",
    "\n",
    "source = requests.get(\"http://www.naver.com\")\n",
    "#print source.text"
   ]
  },
  {
   "cell_type": "code",
   "execution_count": 5,
   "metadata": {
    "collapsed": false
   },
   "outputs": [
    {
     "name": "stdout",
     "output_type": "stream",
     "text": [
      "맨유 맨시티\n"
     ]
    }
   ],
   "source": [
    "from bs4 import BeautifulSoup\n",
    "soup = BeautifulSoup(source.text, 'html.parser')\n",
    "x = soup.find_all('span', {'class' : 'ah_k'})\n",
    "print x[0].text"
   ]
  },
  {
   "cell_type": "code",
   "execution_count": 9,
   "metadata": {
    "collapsed": false
   },
   "outputs": [],
   "source": [
    "import pickle as pk\n",
    "\n",
    "y = [1, 2, 3, 4]\n",
    "f = open(\"./pickle_example.txt\", \"w\")\n",
    "\n",
    "pk.dump(y, f)"
   ]
  }
 ],
 "metadata": {
  "kernelspec": {
   "display_name": "Python 2",
   "language": "python",
   "name": "python2"
  },
  "language_info": {
   "codemirror_mode": {
    "name": "ipython",
    "version": 2
   },
   "file_extension": ".py",
   "mimetype": "text/x-python",
   "name": "python",
   "nbconvert_exporter": "python",
   "pygments_lexer": "ipython2",
   "version": "2.7.13"
  }
 },
 "nbformat": 4,
 "nbformat_minor": 0
}
