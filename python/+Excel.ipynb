{
 "cells": [
  {
   "cell_type": "code",
   "execution_count": 6,
   "metadata": {
    "collapsed": false,
    "scrolled": true
   },
   "outputs": [
    {
     "ename": "AttributeError",
     "evalue": "'NoneType' object has no attribute 'FullName'",
     "output_type": "error",
     "traceback": [
      "\u001b[1;31m---------------------------------------------------------------------------\u001b[0m",
      "\u001b[1;31mAttributeError\u001b[0m                            Traceback (most recent call last)",
      "\u001b[1;32m<ipython-input-6-9e0913b77965>\u001b[0m in \u001b[0;36m<module>\u001b[1;34m()\u001b[0m\n\u001b[0;32m      3\u001b[0m \u001b[0mexcel\u001b[0m \u001b[1;33m=\u001b[0m \u001b[0mwin32com\u001b[0m\u001b[1;33m.\u001b[0m\u001b[0mclient\u001b[0m\u001b[1;33m.\u001b[0m\u001b[0mDispatch\u001b[0m\u001b[1;33m(\u001b[0m\u001b[1;34m\"Excel.Application\"\u001b[0m\u001b[1;33m)\u001b[0m\u001b[1;33m\u001b[0m\u001b[0m\n\u001b[0;32m      4\u001b[0m \u001b[0mexcel\u001b[0m\u001b[1;33m.\u001b[0m\u001b[0mVisible\u001b[0m \u001b[1;33m=\u001b[0m \u001b[0mTrue\u001b[0m\u001b[1;33m\u001b[0m\u001b[0m\n\u001b[1;32m----> 5\u001b[1;33m \u001b[1;32mprint\u001b[0m \u001b[0mexcel\u001b[0m\u001b[1;33m.\u001b[0m\u001b[0mActiveWorkbook\u001b[0m\u001b[1;33m.\u001b[0m\u001b[0mFullName\u001b[0m\u001b[1;33m\u001b[0m\u001b[0m\n\u001b[0m\u001b[0;32m      6\u001b[0m \u001b[1;31m#엑셀 생성\u001b[0m\u001b[1;33m\u001b[0m\u001b[1;33m\u001b[0m\u001b[0m\n\u001b[0;32m      7\u001b[0m \u001b[1;31m#wb = excel.Workbooks.Add()\u001b[0m\u001b[1;33m\u001b[0m\u001b[1;33m\u001b[0m\u001b[0m\n",
      "\u001b[1;31mAttributeError\u001b[0m: 'NoneType' object has no attribute 'FullName'"
     ]
    }
   ],
   "source": [
    "import win32com.client\n",
    "from win32com.client import constants as c\n",
    "excel = win32com.client.Dispatch(\"Excel.Application\")\n",
    "excel.Visible = True\n",
    "print excel.ActiveWorkbook.FullName\n",
    "#엑셀 생성\n",
    "#wb = excel.Workbooks.Add()\n",
    "#엑셀 불러오기\n",
    "#wb = excel.Workbooks.Open(\"C:\\Users\\lafamila\\Documents\\Book1.xlsx\")\n",
    "#켜져있는 엑셀\n",
    "wb = excel.ActiveWorkbook\n",
    "\n",
    "#Sheet 추가\n",
    "#ws = wb.Worksheets.Add()\n",
    "#ws.Name = \"hello\"\n",
    "#활성화 되어있는 sheet\n",
    "ws = wb.ActiveSheet\n",
    "#특정 sheet\n",
    "#ws = wb.sheets(\"Sheet3\")\n",
    "\n",
    "\n",
    "#cell 내용 가져오기\n",
    "a = ws.Cells(1, 1).Value\n",
    "print a\n",
    "#범위 cell 지정\n",
    "#ws.Range(ws.Cells(3, 1), ws.Cells(3, 4)).value = [5, 6, 7, 8]\n",
    "#ws.Range(\"A4:D4\").value = [9, 10, 11, 12]\n",
    "\n",
    "#cell 에 함수넣기\n",
    "#ws.Cells(5,4).Formula = '=SUM(A2:D4)'\n",
    "\n",
    "#cell 속성\n",
    "#ws.Cells(5,4).Font.Size = 16\n",
    "#ws.Cells(5,4).Font.Bold = True\n",
    "\n",
    "#다른이름으로 저장\n",
    "#ws.SaveAs('c:\\\\Users\\\\lafamila\\\\Desktop\\\\test4.xlsx')\n",
    "#excel.Quit()"
   ]
  },
  {
   "cell_type": "code",
   "execution_count": 1,
   "metadata": {
    "collapsed": true
   },
   "outputs": [],
   "source": [
    "import win32com.client\n",
    "excel = win32com.client.Dispatch('Excel.Application')\n",
    "excel.Visible = True\n",
    "wb = excel.Workbooks.Add()\n",
    "\n",
    "ws = wb.Sheets(1)\n",
    "ws.Name = \"Algoritmos de Busqueda\"\n",
    "ws.Cells(1,1).Value=\"Secuencial\"\n",
    "ws.Cells(2,1).Value=\"Binaria\"\n",
    "ws.Cells(1,2).Value=\"32\"\n",
    "ws.Cells(2,2).Value=\"32\"\n",
    "\n",
    "chart = excel.Charts.Add()\n",
    "chart.Name= \"Grafico \"+ws.Name\n",
    "series = chart.SeriesCollection(1)\n",
    "series.XValues= ws.Range(\"A1:A2\")\n",
    "series.Values= ws.Range(\"B1:B2\")\n",
    "series.Name= \"Algoritmos\"\n",
    "chart.Axes()[0].HasMajorGridlines = True"
   ]
  },
  {
   "cell_type": "code",
   "execution_count": 13,
   "metadata": {
    "collapsed": false
   },
   "outputs": [
    {
     "name": "stdout",
     "output_type": "stream",
     "text": [
      "[]\n"
     ]
    }
   ],
   "source": [
    "import psutil\n",
    "excelPids = []\n",
    "for proc in psutil.process_iter():\n",
    "    if proc.name == \"EXCEL.EXE\": \n",
    "        excelPids.append(proc.name)\n",
    "print excelPids"
   ]
  },
  {
   "cell_type": "code",
   "execution_count": null,
   "metadata": {
    "collapsed": true
   },
   "outputs": [],
   "source": []
  }
 ],
 "metadata": {
  "kernelspec": {
   "display_name": "Python 2",
   "language": "python",
   "name": "python2"
  },
  "language_info": {
   "codemirror_mode": {
    "name": "ipython",
    "version": 2
   },
   "file_extension": ".py",
   "mimetype": "text/x-python",
   "name": "python",
   "nbconvert_exporter": "python",
   "pygments_lexer": "ipython2",
   "version": "2.7.13"
  }
 },
 "nbformat": 4,
 "nbformat_minor": 0
}
