{
 "cells": [
  {
   "cell_type": "markdown",
   "metadata": {
    "collapsed": true
   },
   "source": [
    "# <튜플 자료형>\n",
    "### - 튜플 (tuple)\n",
    "list와 비슷하지만, 수정/삭제가 불가능한 자료형<br>\n",
    "숫자 모음이나 변수, 값들을 ()로 감싸면 된다.\n",
    "<b>튜플 이름 = ( 요소1, 요소2, .. )</b>로 사용한다.<br>\n",
    "초기화 시에는 <b>a = tuple()</b> 로도 사용 가능하다."
   ]
  },
  {
   "cell_type": "code",
   "execution_count": 1,
   "metadata": {
    "collapsed": false
   },
   "outputs": [
    {
     "name": "stdout",
     "output_type": "stream",
     "text": [
      "()\n",
      "(1, 2, 3)\n",
      "('Hello', 'Tuple')\n",
      "(1, 'Hello')\n",
      "<type 'tuple'>\n",
      "<type 'tuple'>\n",
      "<type 'tuple'>\n",
      "<type 'tuple'>\n"
     ]
    }
   ],
   "source": [
    "t1 = ()\n",
    "t2 = (1, 2, 3)\n",
    "t3 = (\"Hello\", \"Tuple\")\n",
    "t4 = (1, \"Hello\")\n",
    "\n",
    "print t1\n",
    "print t2\n",
    "print t3\n",
    "print t4\n",
    "\n",
    "print type(t1)\n",
    "print type(t2)\n",
    "print type(t3)\n",
    "print type(t4)"
   ]
  },
  {
   "cell_type": "markdown",
   "metadata": {},
   "source": [
    " ### - 인덱싱과 슬라이싱, +, * 연산\n",
    "튜플도 역시 리스트나 문자열과 같이 인덱싱과 슬라이싱을 사용할 수 있다. 또한 + 와 * 도 같은 의미로 사용한다."
   ]
  },
  {
   "cell_type": "code",
   "execution_count": 2,
   "metadata": {
    "collapsed": false
   },
   "outputs": [
    {
     "name": "stdout",
     "output_type": "stream",
     "text": [
      "1\n",
      "(3, 4)\n",
      "(1, 2, 3, 4, 5, 6)\n",
      "(5, 6, 5, 6)\n"
     ]
    }
   ],
   "source": [
    "a = (1, 2, 3, 4)\n",
    "b = (5, 6)\n",
    "\n",
    "print a[0]\n",
    "print a[2:4]\n",
    "print a + b\n",
    "print b * 2"
   ]
  }
 ],
 "metadata": {
  "kernelspec": {
   "display_name": "Python 2",
   "language": "python",
   "name": "python2"
  },
  "language_info": {
   "codemirror_mode": {
    "name": "ipython",
    "version": 2
   },
   "file_extension": ".py",
   "mimetype": "text/x-python",
   "name": "python",
   "nbconvert_exporter": "python",
   "pygments_lexer": "ipython2",
   "version": "2.7.13"
  }
 },
 "nbformat": 4,
 "nbformat_minor": 0
}
