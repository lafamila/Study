{
 "cells": [
  {
   "cell_type": "code",
   "execution_count": 42,
   "metadata": {},
   "outputs": [],
   "source": [
    "from __future__ import print_function\n",
    "class Stack:\n",
    "    def __init__(self):\n",
    "        self.items = []\n",
    "    \n",
    "    def isEmpty(self):\n",
    "        return self.items == []\n",
    "    \n",
    "    def push(self, item):\n",
    "        self.items.append(item)\n",
    "    \n",
    "    def pop(self):\n",
    "        return self.items.pop()\n",
    "    \n",
    "    def peek(self):\n",
    "        return self.items[len(self.items) - 1]\n",
    "    \n",
    "    def size(self):\n",
    "        return len(self.items)\n",
    "\n",
    "def readMaze(f):\n",
    "    maze = []\n",
    "    myfile = open(f, 'r')\n",
    "    \n",
    "    while True:\n",
    "        line = myfile.readline()\n",
    "        if not line :\n",
    "            break\n",
    "        \n",
    "        maze.append([ch for ch in line])\n",
    "    \n",
    "    myfile.close()\n",
    "    return maze\n",
    "\n",
    "def findPath(maze, stack):\n",
    "    x, y = 1, 0\n",
    "    post = []\n",
    "    size = len(maze[len(maze)-1])\n",
    "    print(size)\n",
    "    while True:\n",
    "\n",
    "        post.append((x, y))\n",
    "        could = False\n",
    "        if maze[x][y] == 'G':\n",
    "            break\n",
    "        maze[x][y] = '.'\n",
    "\n",
    "        if x+1 < len(maze) and maze[x+1][y] and maze[x+1][y] != '#' and maze[x+1][y] != '\\n' and (x+1, y) not in post:\n",
    "                stack.push((x, y))\n",
    "                x = x + 1\n",
    "                could = True\n",
    "        elif y+1 < size and maze[x][y+1] and maze[x][y+1]!= '#' and maze[x][y+1] != '\\n' and (x, y+1) not in post:\n",
    "                stack.push((x, y))\n",
    "                y = y + 1\n",
    "                could = True\n",
    "        elif x-1 >= 0 and maze[x-1][y] and maze[x-1][y] != '#' and maze[x-1][y] != '\\n' and (x-1, y) not in post:\n",
    "                stack.push((x, y))\n",
    "                x = x - 1\n",
    "                could = True\n",
    "        elif y-1 >= 0 and maze[x][y-1] and maze[x][y-1]!= '#' and maze[x][y-1] != '\\n' and (x, y-1) not in post:\n",
    "                stack.push((x, y))\n",
    "                y = y - 1\n",
    "                could = True\n",
    "\n",
    "        if not could :\n",
    "            (x, y) = stack.pop()\n",
    "        \n",
    "    for item in stack.items:\n",
    "        maze[item[0]][item[1]] = 'O'\n",
    "\n",
    "    return maze\n",
    "\n",
    "def printMaze(maze):\n",
    "    for line in maze:\n",
    "        for ch in line:\n",
    "            print(ch, end='')\n",
    "    print(\"\\n\\n\")\n",
    "            \n",
    "def printPath(stack):\n",
    "    for item in stack.items:\n",
    "        print(item,'->', end=' ')\n",
    "    print('Goal')"
   ]
  },
  {
   "cell_type": "code",
   "execution_count": 43,
   "metadata": {},
   "outputs": [
    {
     "name": "stdout",
     "output_type": "stream",
     "text": [
      "7\n",
      "#######\n",
      "OO    #\n",
      "#O### #\n",
      "#O### #\n",
      "#O### #\n",
      "#OOOOOG\n",
      "#######\n",
      "\n",
      "\n",
      "(1, 0) -> (1, 1) -> (2, 1) -> (3, 1) -> (4, 1) -> (5, 1) -> (5, 2) -> (5, 3) -> (5, 4) -> (5, 5) -> Goal\n"
     ]
    }
   ],
   "source": [
    "maze = readMaze('./maze/mazeTest2.txt')\n",
    "s = Stack()\n",
    "printMaze(findPath(maze, s))\n",
    "printPath(s)"
   ]
  },
  {
   "cell_type": "code",
   "execution_count": 29,
   "metadata": {},
   "outputs": [
    {
     "ename": "AttributeError",
     "evalue": "Stack instance has no attribute 'printstack'",
     "output_type": "error",
     "traceback": [
      "\u001b[1;31m---------------------------------------------------------------------------\u001b[0m",
      "\u001b[1;31mAttributeError\u001b[0m                            Traceback (most recent call last)",
      "\u001b[1;32m<ipython-input-29-9d1aa0c8b610>\u001b[0m in \u001b[0;36m<module>\u001b[1;34m()\u001b[0m\n\u001b[0;32m      1\u001b[0m \u001b[0mstack\u001b[0m \u001b[1;33m=\u001b[0m \u001b[0mStack\u001b[0m\u001b[1;33m(\u001b[0m\u001b[1;33m)\u001b[0m\u001b[1;33m\u001b[0m\u001b[0m\n\u001b[0;32m      2\u001b[0m \u001b[0mstack\u001b[0m\u001b[1;33m.\u001b[0m\u001b[0mpush\u001b[0m\u001b[1;33m(\u001b[0m\u001b[1;33m(\u001b[0m\u001b[1;36m1\u001b[0m\u001b[1;33m,\u001b[0m\u001b[1;36m4\u001b[0m\u001b[1;33m)\u001b[0m\u001b[1;33m)\u001b[0m\u001b[1;33m\u001b[0m\u001b[0m\n\u001b[1;32m----> 3\u001b[1;33m \u001b[0mstack\u001b[0m\u001b[1;33m.\u001b[0m\u001b[0mprintstack\u001b[0m\u001b[1;33m(\u001b[0m\u001b[1;33m)\u001b[0m\u001b[1;33m\u001b[0m\u001b[0m\n\u001b[0m",
      "\u001b[1;31mAttributeError\u001b[0m: Stack instance has no attribute 'printstack'"
     ]
    }
   ],
   "source": [
    "stack = Stack()\n",
    "stack.push((1,4))\n",
    "stack.printstack()"
   ]
  },
  {
   "cell_type": "code",
   "execution_count": 34,
   "metadata": {},
   "outputs": [],
   "source": [
    "def readMaze(f):\n",
    "    maze_file = open(f, 'r')\n",
    "    line_num = 0\n",
    "    line = maze_file.readline()\n",
    "\n",
    "    maze = []\n",
    "    while line:\n",
    "        maze.append([ch for ch in line])\n",
    "\n",
    "        line = maze_file.readline()\n",
    "        line_num += 1\n",
    "    maze_file.close()\n",
    "    return maze\n",
    "\n",
    "def findPath(maze, stack):\n",
    "    visit = []\n",
    "    x = 1\n",
    "    y = 0\n",
    "    \n",
    "    while True:\n",
    "        maze[x][y] = '.'\n",
    "        visit.append( (x, y) )\n",
    "        if maze[x][y] == 'G':\n",
    "            break\n",
    "            \n",
    "        if maze[x][y+1] != '#' and (x,  y+1) not in visit:\n",
    "            stack.push( (x , y ) )\n",
    "            y += 1\n",
    "        elif maze[x+1][y] != '#' and (x+1 , y) not in visit:\n",
    "            stack.push( (x, y) )\n",
    "            x += 1\n",
    "        elif y-1 >= 0 and maze[x][y-1] != '#' and (x , y-1) not in visit:\n",
    "            stack.push( (x, y) )\n",
    "            y -= 1\n",
    "        elif x-1 >= 0 and maze[x-1][y] != '#' and (x-1 , y) not in visit:\n",
    "            stack.push( (x, y) )\n",
    "            x -= 1\n",
    "        else:\n",
    "            if not stack.isEmpty():\n",
    "                (x, y) = stack.pop()\n",
    "            \n",
    "    \n",
    "    for item in stack.items:\n",
    "        maze[item[0]][item[1]] = 'O'\n",
    "    \n",
    "    return maze\n",
    "    \n",
    "    "
   ]
  },
  {
   "cell_type": "code",
   "execution_count": 17,
   "metadata": {
    "collapsed": true
   },
   "outputs": [],
   "source": [
    "print(readMaze(\"\"))"
   ]
  },
  {
   "cell_type": "code",
   "execution_count": null,
   "metadata": {},
   "outputs": [],
   "source": []
  },
  {
   "cell_type": "code",
   "execution_count": null,
   "metadata": {
    "collapsed": true
   },
   "outputs": [],
   "source": []
  },
  {
   "cell_type": "code",
   "execution_count": null,
   "metadata": {
    "collapsed": true
   },
   "outputs": [],
   "source": []
  },
  {
   "cell_type": "code",
   "execution_count": null,
   "metadata": {
    "collapsed": true
   },
   "outputs": [],
   "source": []
  },
  {
   "cell_type": "code",
   "execution_count": null,
   "metadata": {
    "collapsed": true
   },
   "outputs": [],
   "source": []
  },
  {
   "cell_type": "code",
   "execution_count": null,
   "metadata": {
    "collapsed": true
   },
   "outputs": [],
   "source": []
  },
  {
   "cell_type": "code",
   "execution_count": null,
   "metadata": {
    "collapsed": true
   },
   "outputs": [],
   "source": []
  },
  {
   "cell_type": "code",
   "execution_count": null,
   "metadata": {
    "collapsed": true
   },
   "outputs": [],
   "source": []
  },
  {
   "cell_type": "code",
   "execution_count": null,
   "metadata": {
    "collapsed": true
   },
   "outputs": [],
   "source": []
  },
  {
   "cell_type": "code",
   "execution_count": null,
   "metadata": {
    "collapsed": true
   },
   "outputs": [],
   "source": []
  },
  {
   "cell_type": "code",
   "execution_count": null,
   "metadata": {
    "collapsed": true
   },
   "outputs": [],
   "source": []
  },
  {
   "cell_type": "code",
   "execution_count": null,
   "metadata": {
    "collapsed": true
   },
   "outputs": [],
   "source": []
  },
  {
   "cell_type": "code",
   "execution_count": null,
   "metadata": {
    "collapsed": true
   },
   "outputs": [],
   "source": []
  },
  {
   "cell_type": "code",
   "execution_count": null,
   "metadata": {
    "collapsed": true
   },
   "outputs": [],
   "source": []
  },
  {
   "cell_type": "code",
   "execution_count": null,
   "metadata": {
    "collapsed": true
   },
   "outputs": [],
   "source": []
  },
  {
   "cell_type": "code",
   "execution_count": null,
   "metadata": {
    "collapsed": true
   },
   "outputs": [],
   "source": []
  },
  {
   "cell_type": "code",
   "execution_count": null,
   "metadata": {
    "collapsed": true
   },
   "outputs": [],
   "source": []
  },
  {
   "cell_type": "code",
   "execution_count": null,
   "metadata": {
    "collapsed": true
   },
   "outputs": [],
   "source": []
  },
  {
   "cell_type": "code",
   "execution_count": null,
   "metadata": {
    "collapsed": true
   },
   "outputs": [],
   "source": []
  },
  {
   "cell_type": "code",
   "execution_count": null,
   "metadata": {
    "collapsed": true
   },
   "outputs": [],
   "source": []
  }
 ],
 "metadata": {
  "kernelspec": {
   "display_name": "Python 2",
   "language": "python",
   "name": "python2"
  },
  "language_info": {
   "codemirror_mode": {
    "name": "ipython",
    "version": 2
   },
   "file_extension": ".py",
   "mimetype": "text/x-python",
   "name": "python",
   "nbconvert_exporter": "python",
   "pygments_lexer": "ipython2",
   "version": "2.7.13"
  }
 },
 "nbformat": 4,
 "nbformat_minor": 2
}
