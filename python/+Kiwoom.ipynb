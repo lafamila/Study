{
 "cells": [
  {
   "cell_type": "code",
   "execution_count": 1,
   "metadata": {},
   "outputs": [
    {
     "ename": "SystemExit",
     "evalue": "0",
     "output_type": "error",
     "traceback": [
      "An exception has occurred, use %tb to see the full traceback.\n",
      "\u001b[1;31mSystemExit\u001b[0m\u001b[1;31m:\u001b[0m 0\n"
     ]
    },
    {
     "name": "stderr",
     "output_type": "stream",
     "text": [
      "C:\\Users\\lafamila\\Anaconda3\\lib\\site-packages\\IPython\\core\\interactiveshell.py:2889: UserWarning: To exit: use 'exit', 'quit', or Ctrl-D.\n",
      "  warn(\"To exit: use 'exit', 'quit', or Ctrl-D.\", stacklevel=1)\n"
     ]
    }
   ],
   "source": [
    "import sys\n",
    "from PyQt5.QtWidgets import *\n",
    "from PyQt5.QtGui import *\n",
    "from PyQt5.QAxContainer import *\n",
    "\n",
    "class Login(QMainWindow):\n",
    "    def __init__(self, parent=None):\n",
    "        super(Login, self).__init__(parent)\n",
    "        self.setWindowTitle(\"PyStock\")\n",
    "        self.setGeometry(300, 300, 300, 450)\n",
    "        self.kiwoom = QAxWidget(\"{A1574A0D-6BFA-4BD7-9020-DED88711818D}\")\n",
    "#        self.kiwoom = QAxWidget(\"KHOPENAPI.KHOpenAPICtrl.1\")\n",
    "\n",
    "        btn1 = QPushButton(\"Login\", self)\n",
    "        btn1.move(20, 20)\n",
    "        btn1.clicked.connect(self.btn1_clicked)\n",
    "\n",
    "#        btn2 = QPushButton(\"Check state\", self)\n",
    "#        btn2.move(20, 70)\n",
    "#        btn2.clicked.connect(self.btn2_clicked)\n",
    "\n",
    "        self.text_edit = QTextEdit(self)\n",
    "        self.text_edit.setGeometry(10, 60, 280, 80)\n",
    "        self.text_edit.setEnabled(False)\n",
    "\n",
    "        self.kiwoom.OnEventConnect.connect(self.event_connect)\n",
    "        self.dialog = Search(self)\n",
    "        \n",
    "    def btn1_clicked(self):\n",
    "        ret = self.kiwoom.dynamicCall(\"CommConnect()\")\n",
    "\n",
    "#    def btn2_clicked(self):\n",
    "#        if self.kiwoom.dynamicCall(\"GetConnectState()\") == 0:\n",
    "#            self.statusBar().showMessage(\"Not connected\")\n",
    "#        else:\n",
    "#            self.statusBar().showMessage(\"Connected\")\n",
    "\n",
    "    def event_connect(self, err_code):\n",
    "        if err_code == 0:\n",
    "            self.text_edit.append(\"로그인 성공\")\n",
    "            self.dialog.show()\n",
    "            \n",
    "class Search(QMainWindow):\n",
    "    def __init__(self, parent=None):\n",
    "        super(Search, self).__init__(parent)\n",
    "        self.setWindowTitle(\"PyStock\")\n",
    "        self.setGeometry(300, 300, 300, 300)\n",
    "        label = QLabel('종목코드: ', self)\n",
    "        label.move(20, 150)\n",
    "\n",
    "        self.kiwoom = parent.kiwoom\n",
    "        self.kiwoom.OnReceiveTrData.connect(self.receive_trdata)\n",
    "        \n",
    "        self.code_edit = QLineEdit(self)\n",
    "        self.code_edit.move(80, 150)\n",
    "        self.code_edit.setText(\"039490\")\n",
    "\n",
    "        btn3 = QPushButton(\"조회\", self)\n",
    "        btn3.move(190, 150)\n",
    "        btn3.clicked.connect(self.btn3_clicked)\n",
    "        \n",
    "        self.text_edit = QTextEdit(self)\n",
    "        self.text_edit.setGeometry(10, 60, 280, 80)\n",
    "        self.text_edit.setEnabled(False)\n",
    "    def btn3_clicked(self):\n",
    "        code = self.code_edit.text()\n",
    "        self.text_edit.append(\"종목코드: \" + code)\n",
    "\n",
    "        # SetInputValue\n",
    "        self.kiwoom.dynamicCall(\"SetInputValue(QString, QString)\", \"종목코드\", code)\n",
    "\n",
    "        # CommRqData\n",
    "        self.kiwoom.dynamicCall(\"CommRqData(QString, QString, int, QString)\", \"opt10001_req\", \"opt10001\", 0, \"0101\")\n",
    "\n",
    "    def receive_trdata(self, screen_no, rqname, trcode, recordname, prev_next, data_len, err_code, msg1, msg2):\n",
    "        if rqname == \"opt10001_req\":\n",
    "            name = self.kiwoom.dynamicCall(\"CommGetData(QString, QString, QString, int, QString)\", trcode, \"\", rqname, 0, \"종목명\")\n",
    "            volume = self.kiwoom.dynamicCall(\"CommGetData(QString, QString, QString, int, QString)\", trcode, \"\", rqname, 0, \"거래량\")\n",
    "\n",
    "            self.text_edit.append(\"종목명: \" + name.strip())\n",
    "            self.text_edit.append(\"거래량: \" + volume.strip())\n",
    "        \n",
    "if __name__ == \"__main__\":\n",
    "    app = QApplication(sys.argv)\n",
    "    myWindow = Login()\n",
    "    myWindow.show()\n",
    "    sys.exit(app.exec_())"
   ]
  },
  {
   "cell_type": "code",
   "execution_count": 1,
   "metadata": {},
   "outputs": [
    {
     "ename": "TypeError",
     "evalue": "unhashable type: 'set'",
     "output_type": "error",
     "traceback": [
      "\u001b[1;31m---------------------------------------------------------------------------\u001b[0m",
      "\u001b[1;31mTypeError\u001b[0m                                 Traceback (most recent call last)",
      "\u001b[1;32m<ipython-input-1-a1b396460ce8>\u001b[0m in \u001b[0;36m<module>\u001b[1;34m()\u001b[0m\n\u001b[1;32m----> 1\u001b[1;33m \u001b[1;33m{\u001b[0m \u001b[1;36m0xA1574A0D\u001b[0m\u001b[1;33m,\u001b[0m \u001b[1;36m0x6BFA\u001b[0m\u001b[1;33m,\u001b[0m \u001b[1;36m0x4BD7\u001b[0m\u001b[1;33m,\u001b[0m \u001b[1;33m{\u001b[0m \u001b[1;36m0x90\u001b[0m\u001b[1;33m,\u001b[0m \u001b[1;36m0x20\u001b[0m\u001b[1;33m,\u001b[0m \u001b[1;36m0xDE\u001b[0m\u001b[1;33m,\u001b[0m \u001b[1;36m0xD8\u001b[0m\u001b[1;33m,\u001b[0m \u001b[1;36m0x87\u001b[0m\u001b[1;33m,\u001b[0m \u001b[1;36m0x11\u001b[0m\u001b[1;33m,\u001b[0m \u001b[1;36m0x81\u001b[0m\u001b[1;33m,\u001b[0m \u001b[1;36m0x8D\u001b[0m \u001b[1;33m}\u001b[0m \u001b[1;33m}\u001b[0m\u001b[1;33m\u001b[0m\u001b[0m\n\u001b[0m",
      "\u001b[1;31mTypeError\u001b[0m: unhashable type: 'set'"
     ]
    }
   ],
   "source": []
  },
  {
   "cell_type": "code",
   "execution_count": null,
   "metadata": {
    "collapsed": true
   },
   "outputs": [],
   "source": []
  }
 ],
 "metadata": {
  "kernelspec": {
   "display_name": "Python 3",
   "language": "python",
   "name": "python3"
  },
  "language_info": {
   "codemirror_mode": {
    "name": "ipython",
    "version": 3
   },
   "file_extension": ".py",
   "mimetype": "text/x-python",
   "name": "python",
   "nbconvert_exporter": "python",
   "pygments_lexer": "ipython3",
   "version": "3.6.1"
  }
 },
 "nbformat": 4,
 "nbformat_minor": 2
}
