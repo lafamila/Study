{
 "cells": [
  {
   "cell_type": "markdown",
   "metadata": {
    "collapsed": true
   },
   "source": [
    "# <집합 자료형>\n",
    "### - 집합 (set)\n",
    "list나 tuple 과는 다르게, 순서(order)가 없고 중복이 허용되지 않는다.<br>\n",
    "리스트를 이용해 set() 메소드를 호출하면 된다.\n",
    "<b>집합 이름 = set( 리스트 )</b>로 사용한다."
   ]
  },
  {
   "cell_type": "code",
   "execution_count": 1,
   "metadata": {},
   "outputs": [
    {
     "name": "stdout",
     "output_type": "stream",
     "text": [
      "{1, 2, 3, 5}\n",
      "<class 'set'>\n"
     ]
    }
   ],
   "source": [
    "a = [1, 5, 3, 2, 1]\n",
    "b = set(a)\n",
    "\n",
    "print(b)\n",
    "print(type(b))"
   ]
  },
  {
   "cell_type": "markdown",
   "metadata": {},
   "source": [
    "### - 교집합, 합집합, 차집합\n",
    "\n",
    "set은 list나 tuple 과는 다르게 순서가 없기 때문에 indexing이나 slicing을 할 수 없다.<br>대신 집합의 연산에 최적화 되어있다.\n",
    "\n",
    "교집합 : <b>s1 & s2</b>  or  <b>s1.intersection(s2)</b><br>\n",
    "합집합 : <b>s1 | s2</b>  or  <b>s1.union(s2)</b><br>\n",
    "차집합 : <b>s1 - s2</b>  or  <b>s1.difference(s2)</b><br>"
   ]
  },
  {
   "cell_type": "code",
   "execution_count": 2,
   "metadata": {},
   "outputs": [
    {
     "name": "stdout",
     "output_type": "stream",
     "text": [
      "{2}\n",
      "{2}\n",
      "{1, 2, 3, 4, 5}\n",
      "{1, 2, 3, 4, 5}\n",
      "{1, 3}\n",
      "{1, 3}\n"
     ]
    }
   ],
   "source": [
    "s1 = set([1, 2, 3])\n",
    "s2 = set([2, 4, 5])\n",
    "\n",
    "print(s1 & s2)\n",
    "print(s1.intersection(s2))\n",
    "\n",
    "print(s1 | s2)\n",
    "print(s1.union(s2))\n",
    "\n",
    "print(s1 - s2)\n",
    "print(s1.difference(s2))"
   ]
  },
  {
   "cell_type": "markdown",
   "metadata": {},
   "source": [
    "### - 요소 추가, 삭제\n",
    "추가 : .add( 추가할 요소 )<br>\n",
    "추가 - (리스트 형태로) : .update( 추가할 리스트 )<br>\n",
    "제거 : .remove( 찾아서 삭제할 요소 )<br>"
   ]
  },
  {
   "cell_type": "code",
   "execution_count": 3,
   "metadata": {},
   "outputs": [
    {
     "name": "stdout",
     "output_type": "stream",
     "text": [
      "{1, 2, 3, 4}\n",
      "{1, 2, 3, 4, 5, 6}\n",
      "{2, 3, 4, 5, 6}\n"
     ]
    }
   ],
   "source": [
    "s1 = set([1, 2, 3])\n",
    "\n",
    "s1.add(4)\n",
    "print(s1)\n",
    "\n",
    "s1.update([5, 6])\n",
    "print(s1)\n",
    "\n",
    "s1.remove(1)\n",
    "print(s1)"
   ]
  }
 ],
 "metadata": {
  "kernelspec": {
   "display_name": "Python 3",
   "language": "python",
   "name": "python3"
  },
  "language_info": {
   "codemirror_mode": {
    "name": "ipython",
    "version": 3
   },
   "file_extension": ".py",
   "mimetype": "text/x-python",
   "name": "python",
   "nbconvert_exporter": "python",
   "pygments_lexer": "ipython3",
   "version": "3.6.2"
  }
 },
 "nbformat": 4,
 "nbformat_minor": 1
}
