{
 "cells": [
  {
   "cell_type": "code",
   "execution_count": 58,
   "metadata": {},
   "outputs": [
    {
     "name": "stdout",
     "output_type": "stream",
     "text": [
      "존재하지 않는 페이지\n"
     ]
    }
   ],
   "source": [
    "import requests\n",
    "from bs4 import BeautifulSoup\n",
    "\n",
    "\n",
    "#str1.startswith(str2)\n",
    "\n",
    "html = requests.get(\"http://dahong.dscount.com/Nshopping/ItemShopping_Main.asp?page=12&a=1&lo=1&psize=L&site=D\").content\n",
    "soup = BeautifulSoup(html, \"html.parser\")\n",
    "if soup.script.text.startswith(\"alert\"):\n",
    "    print(\"존재하지 않는 페이지\")"
   ]
  },
  {
   "cell_type": "code",
   "execution_count": 65,
   "metadata": {},
   "outputs": [
    {
     "name": "stdout",
     "output_type": "stream",
     "text": [
      "[<span class=\"h2t_12 ct_b\">다이아 루즈핏 니트티</span>, <span class=\"h2t_12 ct_b\">웰컴 꽈베기 니트티</span>, <span class=\"h2t_12 ct_b\">코로나 퍼프 라운드 니트티</span>, <span class=\"h2t_12 ct_b\">레드카펫 벨벳 퍼프 티셔츠</span>, <span class=\"h2t_12 ct_b\">자몽쥬스 루즈핏 니트티</span>, <span class=\"h2t_12 ct_b\">치즈케이크 프릴 니트티</span>, <span class=\"h2t_12 ct_b\">디저트 꽈베기 크롭 니트티</span>, <span class=\"h2t_12 ct_b\">허그미 베이직 터틀넥 니트티 </span>, <span class=\"h2t_12 ct_b\">베이비문 배색 니트티 </span>, <span class=\"h2t_12 ct_b\">러브레터 프릴소매 티셔츠 </span>, <span class=\"h2t_12 ct_b\">티타임 슬림 터틀넥 티셔츠 </span>, <span class=\"h2t_12 ct_b\">바로이순간 V넥 오버 니트티 </span>, <span class=\"h2t_12 ct_b\">엣지있어 플리츠 벨벳 티셔츠 </span>, <span class=\"h2t_12 ct_b\">주근깨소녀 프린팅 기모 맨투맨 </span>, <span class=\"h2t_12 ct_b\">트리플 심플 니트티</span>, <span class=\"h2t_12 ct_b\">블리블리 심플 티셔츠</span>, <span class=\"h2t_12 ct_b\">빌보드 반하이넥 니트티</span>, <span class=\"h2t_12 ct_b\">(★세트로 구매시 1,000원 할인★)내손을잡아 상하의 세트</span>, <span class=\"h2t_12 ct_b\">앙꼬 앙고라 퍼프 니트티 </span>, <span class=\"h2t_12 ct_b\">카오스 스트라이프 니트티</span>, <span class=\"h2t_12 ct_b\">내손을잡아 폴라 니트티</span>, <span class=\"h2t_12 ct_b\">편안해요 루즈핏 니트티</span>, <span class=\"h2t_12 ct_b\">심포니 V넥 퍼프소매 티셔츠</span>, <span class=\"h2t_12 ct_b\">스페셜데이 앙고라 니트티</span>, <span class=\"h2t_12 ct_b\">파운드케익 루즈핏 니트티 </span>, <span class=\"h2t_12 ct_b\">낫띵 언발 루즈핏 니트티 </span>, <span class=\"h2t_12 ct_b\">하루하루 베이직 티셔츠 </span>, <span class=\"h2t_12 ct_b\">프로젝트 터틀넥 니트티 </span>, <span class=\"h2t_12 ct_b\">치즈쿠키 퍼프 하프넥 티셔츠 </span>, <span class=\"h2t_12 ct_b\">프리스 도트 니트티 </span>, <span class=\"h2t_12 ct_b\">앤더슨 벨트 기모 맨투맨 </span>, <span class=\"h2t_12 ct_b\">마이달링 V넥 롱 니트티 </span>, <span class=\"h2t_12 ct_b\">해피데이 벌룬 니트티 </span>, <span class=\"h2t_12 ct_b\">예스 베이직 슬림 티셔츠 </span>, <span class=\"h2t_12 ct_b\">솜사탕 앙고라 반팔 니트티 </span>, <span class=\"h2t_12 ct_b\">젤루좋아 베이직 니트티 </span>, <span class=\"h2t_12 ct_b\">모카향 벨벳 반팔 티셔츠</span>, <span class=\"h2t_12 ct_b\">비비드 루즈핏 니트티</span>, <span class=\"h2t_12 ct_b\">손이가요 베이직 니트티</span>, <span class=\"h2t_12 ct_b\">로맨스 레이스 슬리브리스</span>, <span class=\"h2t_12 ct_b\">따끈따끈 터틀넥 니트티</span>, <span class=\"h2t_12 ct_b\">트라이앵글 골지 니트티</span>, <span class=\"h2t_12 ct_b\">애플시나몬 플라워 자수 니트티</span>, <span class=\"h2t_12 ct_b\">행복한나날 프린팅 티셔츠</span>, <span class=\"h2t_12 ct_b\">기대해 스트라이프 니트티</span>, <span class=\"h2t_12 ct_b\">핫걸 골지 라운드 티셔츠</span>, <span class=\"h2t_12 ct_b\">우리둘이 터틀넥 니트티 </span>, <span class=\"h2t_12 ct_b\">좋은하루 슬림 티셔츠 </span>]\n"
     ]
    }
   ],
   "source": [
    "import requests\n",
    "from bs4 import BeautifulSoup, Comment\n",
    "\n",
    "url = requests.get(\"http://dahong.dscount.com/Nshopping/ItemShopping_main.asp?a=1\")\n",
    "\n",
    "soup = BeautifulSoup(url.content, 'html.parser')\n",
    "comments = soup.findAll(text=lambda text:isinstance(text, Comment))\n",
    "for com in comments:\n",
    "    if \"상품 테이블 시작\" in com and \"베스트\" not in com:\n",
    "        print(com.parent.select(\".h2t_12.ct_b\"))\n"
   ]
  },
  {
   "cell_type": "code",
   "execution_count": 66,
   "metadata": {},
   "outputs": [],
   "source": [
    "import requests\n",
    "from bs4 import BeautifulSoup\n",
    "\n",
    "html = requests.get(\"http://styleberry.co.kr/shop/shopbrand.html?xcode=003\").content\n",
    "soup = BeautifulSoup(html, 'html.parser')\n",
    "#print(soup.select(\"#SMS_prd_container\"))\n",
    "#print(soup.find_all(\"div\" , {\"id\" : \"SMS_prd_container\"}))"
   ]
  },
  {
   "cell_type": "code",
   "execution_count": 2,
   "metadata": {},
   "outputs": [
    {
     "ename": "ModuleNotFoundError",
     "evalue": "No module named 'dryscrape'",
     "output_type": "error",
     "traceback": [
      "\u001b[1;31m---------------------------------------------------------------------------\u001b[0m",
      "\u001b[1;31mModuleNotFoundError\u001b[0m                       Traceback (most recent call last)",
      "\u001b[1;32m<ipython-input-2-f514e6ef5b20>\u001b[0m in \u001b[0;36m<module>\u001b[1;34m()\u001b[0m\n\u001b[1;32m----> 1\u001b[1;33m \u001b[1;32mimport\u001b[0m \u001b[0mdryscrape\u001b[0m\u001b[1;33m\u001b[0m\u001b[0m\n\u001b[0m\u001b[0;32m      2\u001b[0m \u001b[1;32mfrom\u001b[0m \u001b[0mbs4\u001b[0m \u001b[1;32mimport\u001b[0m \u001b[0mBeautifulSoup\u001b[0m\u001b[1;33m\u001b[0m\u001b[0m\n\u001b[0;32m      3\u001b[0m \u001b[0msession\u001b[0m \u001b[1;33m=\u001b[0m \u001b[0mdryscrape\u001b[0m\u001b[1;33m.\u001b[0m\u001b[0mSession\u001b[0m\u001b[1;33m(\u001b[0m\u001b[1;33m)\u001b[0m\u001b[1;33m\u001b[0m\u001b[0m\n\u001b[0;32m      4\u001b[0m \u001b[0msession\u001b[0m\u001b[1;33m.\u001b[0m\u001b[0mvisit\u001b[0m\u001b[1;33m(\u001b[0m\u001b[0mmy_url\u001b[0m\u001b[1;33m)\u001b[0m\u001b[1;33m\u001b[0m\u001b[0m\n\u001b[0;32m      5\u001b[0m \u001b[0mresponse\u001b[0m \u001b[1;33m=\u001b[0m \u001b[0msession\u001b[0m\u001b[1;33m.\u001b[0m\u001b[0mbody\u001b[0m\u001b[1;33m(\u001b[0m\u001b[1;33m)\u001b[0m\u001b[1;33m\u001b[0m\u001b[0m\n",
      "\u001b[1;31mModuleNotFoundError\u001b[0m: No module named 'dryscrape'"
     ]
    }
   ],
   "source": [
    "import dryscrape\n",
    "from bs4 import BeautifulSoup\n",
    "session = dryscrape.Session()\n",
    "session.visit(my_url)\n",
    "response = session.body()\n",
    "soup = BeautifulSoup(response, 'html.parser')\n",
    "soup.find(id=\"intro-text\")"
   ]
  },
  {
   "cell_type": "code",
   "execution_count": null,
   "metadata": {},
   "outputs": [],
   "source": []
  }
 ],
 "metadata": {
  "kernelspec": {
   "display_name": "Python 3",
   "language": "python",
   "name": "python3"
  },
  "language_info": {
   "codemirror_mode": {
    "name": "ipython",
    "version": 3
   },
   "file_extension": ".py",
   "mimetype": "text/x-python",
   "name": "python",
   "nbconvert_exporter": "python",
   "pygments_lexer": "ipython3",
   "version": "3.6.2"
  }
 },
 "nbformat": 4,
 "nbformat_minor": 2
}
