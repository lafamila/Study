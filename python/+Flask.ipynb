{
 "cells": [
  {
   "cell_type": "markdown",
   "metadata": {},
   "source": [
    "# Flask를 활용한 웹페이지(또는 서버) 만들기\n",
    "\n",
    "### Flask + html\n",
    "\n",
    "Flask는 python을 이용해 웹서버를 구축할 수 있는 프레임워크로써, 사용하기 위한 \n",
    "기본 형태는 다음과 같다."
   ]
  },
  {
   "cell_type": "code",
   "execution_count": null,
   "metadata": {},
   "outputs": [],
   "source": [
    "from flask import Flask\n",
    "app = Flask(__name__)\n",
    "\n",
    "@app.route('/')\n",
    "def main():\n",
    "    return \"Hello, World!\"\n",
    "\n",
    "if __name__ == '__main__':\n",
    "    app.run()"
   ]
  },
  {
   "cell_type": "markdown",
   "metadata": {},
   "source": [
    "먼저 <strong>from flask import Flask</strong> 로 flask module을 import 한다.<br>\n",
    "<br>\n",
    "app = Flask(\\_\\_name\\_\\_) 은 Flask 앱, 즉 웹 서버를 의미한다.<br>\n",
    "if \\_\\_name\\_\\_ == '\\_\\_main\\_\\_': 에서 서버를 실행시키는데, 이때 debugging 모드나 외부 포워딩 등을 설정할 수 있다.<br>\n",
    "\n",
    "@app.route('경로') 는 url 상에서의 경로를 routing 하는데, 예를들어<br>\n",
    "@app.route('/hello/')아래의 함수는 http://127.0.0.1/hello/ 로 접속했을 때 실행될 함수를 의미한다. 위에서는 http://127.0.0.1/ 에 접속할 경우 main() 이라는 함수가 실행되면서 Hello, World! 가 출력된 페이지가 나온다.\n"
   ]
  },
  {
   "cell_type": "code",
   "execution_count": null,
   "metadata": {},
   "outputs": [],
   "source": [
    "from flask import Flask, render_template\n",
    "app = Flask(__name__)\n",
    "\n",
    "@app.route('/render')\n",
    "def render():\n",
    "    return render_template('index.html')"
   ]
  },
  {
   "cell_type": "markdown",
   "metadata": {},
   "source": [
    "이미 html로 작성된 페이지를 return 해주기 위해서는  render_template 라는 함수를 import 해야한다. render_template('index.html') 함수를 이용하면 되는데, 이때 index.html 파일은 templates 라는 폴더 안에 저장되어있어야 한다.\n",
    "\n",
    "<br><br>그 외에도 다음과 같이 변수를 넘겨주거나, get/post 방식으로 전달된 데이터를 받을 수 있다."
   ]
  },
  {
   "cell_type": "code",
   "execution_count": null,
   "metadata": {},
   "outputs": [],
   "source": [
    "#@app.route('/hello/<int:name>')\n",
    "#@app.route('/hello/<float:name>')\n",
    "#@app.route('/hello/<path:name>')\n",
    "@app.route('/hello')\n",
    "@app.route('/hello/<name>')\n",
    "def hello(name=None):\n",
    "    if name:\n",
    "        string = \"hello {}!\".format(name)\n",
    "        return string\n",
    "    else:\n",
    "        return \"hello world!\"\n",
    "\n",
    "\n",
    "@app.route('/method', methods=['GET', 'POST'])\n",
    "def method():\n",
    "    if request.method == 'POST':\n",
    "        return \"post 방식 접근 {}\".format(request.form.get('key'))\n",
    "    else:\n",
    "        return \"get 방식 접근 {}\".format(request.args.get('key'))\n",
    "\n",
    "@app.route('/post')\n",
    "def post():\n",
    "    v = 1\n",
    "    return render_template(\"post.html\", va = v)\n"
   ]
  }
 ],
 "metadata": {
  "kernelspec": {
   "display_name": "Python 3",
   "language": "python",
   "name": "python3"
  },
  "language_info": {
   "codemirror_mode": {
    "name": "ipython",
    "version": 3
   },
   "file_extension": ".py",
   "mimetype": "text/x-python",
   "name": "python",
   "nbconvert_exporter": "python",
   "pygments_lexer": "ipython3",
   "version": "3.6.2"
  }
 },
 "nbformat": 4,
 "nbformat_minor": 2
}
