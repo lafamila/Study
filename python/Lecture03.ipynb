{
 "cells": [
  {
   "cell_type": "markdown",
   "metadata": {},
   "source": [
    "# <리스트 자료형>\n",
    "### - 리스트 (list)\n",
    "여러가지 자료의 모음<br>\n",
    "숫자 모음이나 변수, 값들을 []로 감싸면 된다.\n",
    "<b>리스트 이름 = [ 요소1, 요소2, .. ]</b>로 사용한다."
   ]
  },
  {
   "cell_type": "code",
   "execution_count": 3,
   "metadata": {
    "collapsed": false
   },
   "outputs": [
    {
     "name": "stdout",
     "output_type": "stream",
     "text": [
      "[]\n",
      "[1, 2, 3]\n",
      "['Hi', 'Hello']\n",
      "[1, 'Hi']\n",
      "<type 'list'>\n",
      "<type 'list'>\n",
      "<type 'list'>\n",
      "<type 'list'>\n"
     ]
    }
   ],
   "source": [
    "a = []\n",
    "b = [1, 2, 3]\n",
    "c = [\"Hi\", \"Hello\"]\n",
    "d = [1, \"Hi\"]\n",
    "\n",
    "print a\n",
    "print b\n",
    "print c\n",
    "print d\n",
    "\n",
    "print type(a)\n",
    "print type(b)\n",
    "print type(c)\n",
    "print type(d)"
   ]
  },
  {
   "cell_type": "markdown",
   "metadata": {},
   "source": [
    " ### - 인덱싱과 슬라이싱, +, * 연산\n",
    "리스트도 역시 문자열과 같이 인덱싱과 슬라이싱을 사용할 수 있다. 또한 + 와 * 도 같은 의미로 사용한다."
   ]
  },
  {
   "cell_type": "code",
   "execution_count": 5,
   "metadata": {
    "collapsed": false
   },
   "outputs": [
    {
     "name": "stdout",
     "output_type": "stream",
     "text": [
      "1\n",
      "[3, 4]\n",
      "[1, 2, 3, 4, 5, 6]\n",
      "[5, 6, 5, 6]\n"
     ]
    }
   ],
   "source": [
    "a = [1, 2, 3, 4]\n",
    "b = [5, 6]\n",
    "\n",
    "print a[0]\n",
    "print a[2:4]\n",
    "print a + b\n",
    "print b * 2"
   ]
  },
  {
   "cell_type": "markdown",
   "metadata": {},
   "source": [
    "### - 요소 추가, 정렬, 삭제\n",
    "추가 : .append( 추가할 요소 )<br>\n",
    "정렬 : .sort()<br>\n",
    "삭제 : del( 삭제할 요소 )<br>\n",
    "뒤집기 : .reverse()<br>\n",
    "위치 : .index( 찾을 요소 )<br>\n",
    "삽입 : .insert( 추가할 위치, 추가할 요소 )<br>\n",
    "제거 : .remove( 찾아서 삭제할 요소 )<br>\n",
    "개수 : .count( 개수를 셀 요소 )<br>\n",
    "길이 : len( 리스트 )<br>\n",
    "마지막 요소 꺼내고 삭제 : .pop()"
   ]
  },
  {
   "cell_type": "code",
   "execution_count": 12,
   "metadata": {
    "collapsed": false
   },
   "outputs": [
    {
     "name": "stdout",
     "output_type": "stream",
     "text": [
      "[1, 3, 2, 4]\n",
      "[1, 3, 2, 4, 5]\n",
      "[1, 2, 3, 4, 5]\n",
      "[2, 3, 4, 5]\n",
      "[5, 4, 3, 2]\n",
      "0\n",
      "[5, 4, 3, 2, 5]\n",
      "[5, 4, 3, 5]\n",
      "2\n",
      "5\n",
      "[5, 4, 3]\n"
     ]
    }
   ],
   "source": [
    "a = [1, 3, 2, 4]\n",
    "\n",
    "print a\n",
    "\n",
    "a.append(5)\n",
    "print a\n",
    "\n",
    "a.sort()\n",
    "print a\n",
    "\n",
    "del(a[0])\n",
    "print a\n",
    "\n",
    "a.reverse()\n",
    "print a\n",
    "\n",
    "print a.index(5)\n",
    "\n",
    "a.insert(4, 5)\n",
    "print a\n",
    "\n",
    "a.remove(2)\n",
    "print a\n",
    "\n",
    "print a.count(5)\n",
    "\n",
    "print a.pop()\n",
    "print a"
   ]
  }
 ],
 "metadata": {
  "kernelspec": {
   "display_name": "Python 2",
   "language": "python",
   "name": "python2"
  },
  "language_info": {
   "codemirror_mode": {
    "name": "ipython",
    "version": 2
   },
   "file_extension": ".py",
   "mimetype": "text/x-python",
   "name": "python",
   "nbconvert_exporter": "python",
   "pygments_lexer": "ipython2",
   "version": "2.7.11"
  }
 },
 "nbformat": 4,
 "nbformat_minor": 0
}
