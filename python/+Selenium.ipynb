{
 "cells": [
  {
   "cell_type": "markdown",
   "metadata": {},
   "source": [
    "#### http://selenium-python.readthedocs.io/locating-elements.html#locating-elements-by-css-selectors\n",
    "<br/>\n",
    "#### https://seleniumhq.github.io/selenium/docs/api/py/index.html"
   ]
  },
  {
   "cell_type": "code",
   "execution_count": 110,
   "metadata": {
    "collapsed": true
   },
   "outputs": [],
   "source": [
    "from selenium import webdriver\n",
    "from selenium.webdriver.common.by import By\n",
    "from selenium.webdriver.support.ui import WebDriverWait\n",
    "from selenium.webdriver.support import expected_conditions as EC\n",
    "import time\n"
   ]
  },
  {
   "cell_type": "code",
   "execution_count": 111,
   "metadata": {
    "collapsed": false
   },
   "outputs": [],
   "source": [
    "driver = webdriver.Chrome()"
   ]
  },
  {
   "cell_type": "code",
   "execution_count": 112,
   "metadata": {
    "collapsed": true
   },
   "outputs": [],
   "source": [
    "driver.get(\"http://marketdata.krx.co.kr/mdi#document=10020102\")"
   ]
  },
  {
   "cell_type": "code",
   "execution_count": 113,
   "metadata": {
    "collapsed": false
   },
   "outputs": [],
   "source": [
    "#종목을 알고있을때\n",
    "elem = driver.find_element_by_name(\"isu_cdnm\")\n",
    "elem.clear()\n",
    "elem.send_keys(\"SAMSUNG\")"
   ]
  },
  {
   "cell_type": "code",
   "execution_count": 135,
   "metadata": {
    "collapsed": false
   },
   "outputs": [],
   "source": [
    "#종목검색 창 켜기\n",
    "find = driver.find_element_by_name(\"finderbtn\")\n",
    "find.click()\n",
    "\n",
    "\n",
    "#정보를 모두 불러온 후\n",
    "td = WebDriverWait(driver, 10).until(EC.presence_of_element_located((By.NAME, \"codeName\")))\n",
    "\n",
    "#시장구분\n",
    "inputs =driver.find_elements_by_css_selector(\"input[type='radio']\")\n",
    "#KOSPI\n",
    "inputs[1].click()\n",
    "#KOSDAQ\n",
    "#inputs[2].click()\n",
    "#KOSNEX\n",
    "#inputs[3].click()\n",
    "#채권\n",
    "#inputs[4].click()\n",
    "\n",
    "\n",
    "#검색어 입력\n",
    "search = WebDriverWait(driver, 10).until(EC.presence_of_element_located((By.NAME, \"searchText\")))\n",
    "search.clear()\n",
    "search.send_keys(\"삼성화재\".decode(\"utf-8\"))\n",
    "\n",
    "#조회\n",
    "driver.find_element_by_css_selector(\"button.btn-board.btn-board-search\").click()\n",
    "\n",
    "#첫번째가 가장 유사한 항목.. 뜨기전까지 기다렸다가, 해당하는 a tag를 클릭\n",
    "try:\n",
    "    td = WebDriverWait(driver, 10).until(EC.presence_of_element_located((By.NAME, \"codeName\")))\n",
    "    a = driver.find_element_by_link_text(td.text)\n",
    "    a.click()\n",
    "\n",
    "    #종목이 반영될 때까지 잠시 기다렸다가 모든 버튼을 긁어서 그중 조회를 클릭하고, 잠시 후에 엑셀 다운로드\n",
    "    time.sleep(1)\n",
    "    buttons = driver.find_elements_by_tag_name(\"button\")\n",
    "    btn_dict = dict()\n",
    "    for btn in buttons:\n",
    "        if btn.text:\n",
    "            btn_dict[btn.text] = btn\n",
    "    btn_dict[\"조회\".decode(\"utf-8\")].click()\n",
    "    time.sleep(3)\n",
    "    btn_dict[\"Excel\"].click()\n",
    "except:\n",
    "    print \"No data\""
   ]
  }
 ],
 "metadata": {
  "kernelspec": {
   "display_name": "Python 2",
   "language": "python",
   "name": "python2"
  },
  "language_info": {
   "codemirror_mode": {
    "name": "ipython",
    "version": 2
   },
   "file_extension": ".py",
   "mimetype": "text/x-python",
   "name": "python",
   "nbconvert_exporter": "python",
   "pygments_lexer": "ipython2",
   "version": "2.7.13"
  }
 },
 "nbformat": 4,
 "nbformat_minor": 0
}
