{
 "cells": [
  {
   "cell_type": "markdown",
   "metadata": {},
   "source": [
    "## NEED TO DOWNLOAD\n",
    "### 1. selenium library (pip install selenium)\n",
    "### 2. Webdriver (in Library/bin/)\n",
    "#### http://selenium-python.readthedocs.io/locating-elements.html#locating-elements-by-css-selectors\n",
    "<br/>\n",
    "#### https://seleniumhq.github.io/selenium/docs/api/py/index.html"
   ]
  },
  {
   "cell_type": "code",
   "execution_count": 1,
   "metadata": {
    "collapsed": false
   },
   "outputs": [
    {
     "ename": "ImportError",
     "evalue": "No module named selenium",
     "output_type": "error",
     "traceback": [
      "\u001b[0;31m---------------------------------------------------------------------------\u001b[0m",
      "\u001b[0;31mImportError\u001b[0m                               Traceback (most recent call last)",
      "\u001b[0;32m<ipython-input-1-340063046073>\u001b[0m in \u001b[0;36m<module>\u001b[0;34m()\u001b[0m\n\u001b[0;32m----> 1\u001b[0;31m \u001b[1;32mfrom\u001b[0m \u001b[0mselenium\u001b[0m \u001b[1;32mimport\u001b[0m \u001b[0mwebdriver\u001b[0m\u001b[1;33m\u001b[0m\u001b[0m\n\u001b[0m\u001b[1;32m      2\u001b[0m \u001b[1;32mfrom\u001b[0m \u001b[0mselenium\u001b[0m\u001b[1;33m.\u001b[0m\u001b[0mwebdriver\u001b[0m\u001b[1;33m.\u001b[0m\u001b[0mcommon\u001b[0m\u001b[1;33m.\u001b[0m\u001b[0mby\u001b[0m \u001b[1;32mimport\u001b[0m \u001b[0mBy\u001b[0m\u001b[1;33m\u001b[0m\u001b[0m\n\u001b[1;32m      3\u001b[0m \u001b[1;32mfrom\u001b[0m \u001b[0mselenium\u001b[0m\u001b[1;33m.\u001b[0m\u001b[0mwebdriver\u001b[0m\u001b[1;33m.\u001b[0m\u001b[0msupport\u001b[0m\u001b[1;33m.\u001b[0m\u001b[0mui\u001b[0m \u001b[1;32mimport\u001b[0m \u001b[0mWebDriverWait\u001b[0m\u001b[1;33m\u001b[0m\u001b[0m\n\u001b[1;32m      4\u001b[0m \u001b[1;32mfrom\u001b[0m \u001b[0mselenium\u001b[0m\u001b[1;33m.\u001b[0m\u001b[0mwebdriver\u001b[0m\u001b[1;33m.\u001b[0m\u001b[0msupport\u001b[0m \u001b[1;32mimport\u001b[0m \u001b[0mexpected_conditions\u001b[0m \u001b[1;32mas\u001b[0m \u001b[0mEC\u001b[0m\u001b[1;33m\u001b[0m\u001b[0m\n\u001b[1;32m      5\u001b[0m \u001b[1;32mimport\u001b[0m \u001b[0mtime\u001b[0m\u001b[1;33m\u001b[0m\u001b[0m\n",
      "\u001b[0;31mImportError\u001b[0m: No module named selenium"
     ]
    }
   ],
   "source": [
    "from selenium import webdriver\n",
    "from selenium.webdriver.common.by import By\n",
    "from selenium.webdriver.support.ui import WebDriverWait\n",
    "from selenium.webdriver.support import expected_conditions as EC\n",
    "ㅇ"
   ]
  },
  {
   "cell_type": "code",
   "execution_count": 47,
   "metadata": {
    "collapsed": true
   },
   "outputs": [],
   "source": [
    "driver = webdriver.Chrome()"
   ]
  },
  {
   "cell_type": "code",
   "execution_count": 48,
   "metadata": {
    "collapsed": true
   },
   "outputs": [],
   "source": [
    "driver.get(\"http://marketdata.krx.co.kr/mdi#document=10020102\")"
   ]
  },
  {
   "cell_type": "code",
   "execution_count": 13,
   "metadata": {
    "collapsed": true
   },
   "outputs": [],
   "source": [
    "#종목을 알고있을때\n",
    "elem = driver.find_element_by_name(\"isu_cdnm\")\n",
    "elem.clear()\n",
    "elem.send_keys(\"SAMSUNG\")"
   ]
  },
  {
   "cell_type": "code",
   "execution_count": 14,
   "metadata": {
    "collapsed": true
   },
   "outputs": [],
   "source": [
    "#종목검색 창 켜기\n",
    "find = driver.find_element_by_name(\"finderbtn\")\n",
    "find.click()\n",
    "\n",
    "\n",
    "#정보를 모두 불러온 후\n",
    "td = WebDriverWait(driver, 10).until(EC.presence_of_element_located((By.NAME, \"codeName\")))\n",
    "\n",
    "#시장구분\n",
    "inputs =driver.find_elements_by_css_selector(\"input[type='radio']\")\n",
    "#KOSPI\n",
    "inputs[1].click()\n",
    "#KOSDAQ\n",
    "#inputs[2].click()\n",
    "#KOSNEX\n",
    "#inputs[3].click()\n",
    "#채권\n",
    "#inputs[4].click()\n",
    "\n",
    "\n",
    "#검색어 입력\n",
    "search = WebDriverWait(driver, 10).until(EC.presence_of_element_located((By.NAME, \"searchText\")))\n",
    "search.clear()\n",
    "search.send_keys(\"삼성화재\".decode(\"utf-8\"))\n",
    "\n",
    "#조회\n",
    "driver.find_element_by_css_selector(\"button.btn-board.btn-board-search\").click()\n",
    "\n",
    "#첫번째가 가장 유사한 항목.. 뜨기전까지 기다렸다가, 해당하는 a tag를 클릭\n",
    "try:\n",
    "    td = WebDriverWait(driver, 10).until(EC.presence_of_element_located((By.NAME, \"codeName\")))\n",
    "    a = driver.find_element_by_link_text(td.text)\n",
    "    a.click()\n",
    "\n",
    "    #종목이 반영될 때까지 잠시 기다렸다가 모든 버튼을 긁어서 그중 조회를 클릭하고, 잠시 후에 엑셀 다운로드\n",
    "    time.sleep(1)\n",
    "    \n",
    "    \n",
    "    #날짜 설정\n",
    "    calendar(driver, 3, 10)\n",
    "    \n",
    "    time.sleep(1)\n",
    "    \n",
    "    \n",
    "    buttons = driver.find_elements_by_tag_name(\"button\")\n",
    "    btn_dict = dict()\n",
    "    for btn in buttons:\n",
    "        if btn.text:\n",
    "            btn_dict[btn.text] = btn\n",
    "    btn_dict[\"조회\".decode(\"utf-8\")].click()\n",
    "    time.sleep(3)\n",
    "    btn_dict[\"Excel\"].click()\n",
    "except:\n",
    "    print \"No data\"\n",
    "    \n",
    "time.sleep(1)\n",
    "driver.quit()"
   ]
  },
  {
   "cell_type": "code",
   "execution_count": 7,
   "metadata": {
    "collapsed": true
   },
   "outputs": [],
   "source": [
    "def calendar(driver, startdays, enddays):\n",
    "    driver.find_element_by_css_selector(\"button.cal-btn-open\").click()\n",
    "    time.sleep(1)\n",
    "\n",
    "\n",
    "\n",
    "    import datetime\n",
    "    #datetime.timedelta(days=)를 바꿔가며 목표 시작 날짜 조정\n",
    "    start = datetime.datetime.now() - datetime.timedelta(days=startdays)\n",
    "    start_str= (\"%04d년 %02d월\"%(start.year, start.month)).decode(\"utf-8\")\n",
    "    default_str = driver.find_elements_by_css_selector(\"div.cal-header\")[0].find_element_by_tag_name(\"span\").text\n",
    "    start_int = int(start_str[0:4])*100 + int(start_str[6:8])\n",
    "    default_int = int(default_str[0:4])*100 + int(default_str[6:8])\n",
    "\n",
    "\n",
    "    if start_int < default_int:\n",
    "        button = driver.find_elements_by_css_selector(\"div.cal-header\")[0].find_elements_by_tag_name(\"button\")[1]\n",
    "        for i in range( int((default_int - start_int) / 100) * 12 + (default_int - start_int)):\n",
    "            button.click()\n",
    "    elif start_int > default_int:\n",
    "        button = driver.find_elements_by_css_selector(\"div.cal-header\")[0].find_elements_by_tag_name(\"button\")[2]\n",
    "        for i in range( int((start_int - default_int) / 100) * 12 + (start_int - default_int)):\n",
    "            button.click()\n",
    "\n",
    "    time.sleep(1)\n",
    "    driver.find_elements_by_css_selector(\"div.cal-body\")[0].find_element_by_link_text(str(start.day)).click()\n",
    "\n",
    "\n",
    "    #datetime.timedelta(days=)를 바꿔가며 목표 끝 날짜 조정\n",
    "    end = datetime.datetime.now() + datetime.timedelta(days=enddays)\n",
    "    end_str= (\"%04d년 %02d월\"%(end.year, end.month)).decode(\"utf-8\")\n",
    "    default_str = driver.find_elements_by_css_selector(\"div.cal-header\")[1].find_element_by_tag_name(\"span\").text\n",
    "    end_int = int(end_str[0:4])*100 + int(end_str[6:8])\n",
    "    default_int = int(default_str[0:4])*100 + int(default_str[6:8])\n",
    "\n",
    "    if end_int < default_int:\n",
    "        button = driver.find_elements_by_css_selector(\"div.cal-header\")[1].find_element_by_css_selector(\"button.cal-btn-prevM\")\n",
    "        for i in range( int((default_int - end_int) / 100) * 12 + (default_int - end_int)):\n",
    "            button.click()\n",
    "            button = driver.find_elements_by_css_selector(\"div.cal-header\")[1].find_element_by_css_selector(\"button.cal-btn-prevM\")\n",
    "    elif end_int > default_int:\n",
    "        button = driver.find_elements_by_css_selector(\"div.cal-header\")[1].find_element_by_css_selector(\"button.cal-btn-nextM\")\n",
    "        for i in range( int((end_int - default_int) / 100) * 12 + (end_int - default_int)):\n",
    "            button.click()\n",
    "            button = driver.find_elements_by_css_selector(\"div.cal-header\")[1].find_element_by_css_selector(\"button.cal-btn-nextM\")\n",
    "\n",
    "\n",
    "\n",
    "    time.sleep(1)\n",
    "    driver.find_elements_by_css_selector(\"div.cal-body\")[1].find_element_by_link_text(str(end.day)).click()\n",
    "\n",
    "    driver.find_element_by_css_selector(\"button.cal-btn-confirm\").click()"
   ]
  },
  {
   "cell_type": "code",
   "execution_count": 9,
   "metadata": {
    "collapsed": false
   },
   "outputs": [
    {
     "name": "stdout",
     "output_type": "stream",
     "text": [
      "순위\n"
     ]
    }
   ],
   "source": [
    "import win32com.client\n",
    "from win32com.client import constants as c\n",
    "excel = win32com.client.Dispatch(\"Excel.Application\")\n",
    "excel.Visible = True\n",
    "#print excel.ActiveWorkbook.FullName\n",
    "wb = excel.Workbooks.Open(\"C:\\Users\\lafamila\\Downloads\\data.xls\")\n",
    "\n",
    "#Sheet 추가\n",
    "#ws = wb.Worksheets.Add()\n",
    "#ws.Name = \"hello\"\n",
    "#활성화 되어있는 sheet\n",
    "ws = wb.ActiveSheet\n",
    "#특정 sheet\n",
    "#ws = wb.sheets(\"Sheet3\")\n",
    "\n",
    "\n",
    "#cell 내용 가져오기\n",
    "a = ws.Cells(1, 1).Value\n",
    "print a\n",
    "#범위 cell 지정\n",
    "#ws.Range(ws.Cells(3, 1), ws.Cells(3, 4)).value = [5, 6, 7, 8]\n",
    "#ws.Range(\"A4:D4\").value = [9, 10, 11, 12]\n",
    "\n",
    "#cell 에 함수넣기\n",
    "#ws.Cells(5,4).Formula = '=SUM(A2:D4)'\n",
    "\n",
    "#cell 속성\n",
    "#ws.Cells(5,4).Font.Size = 16\n",
    "#ws.Cells(5,4).Font.Bold = True\n",
    "\n",
    "#다른이름으로 저장\n",
    "#ws.SaveAs('c:\\\\Users\\\\lafamila\\\\Desktop\\\\test4.xlsx')\n",
    "excel.Quit()"
   ]
  },
  {
   "cell_type": "code",
   "execution_count": null,
   "metadata": {
    "collapsed": true
   },
   "outputs": [],
   "source": [
    "driver.find_elements_by_tag_name(\"textarea\")[0].send_keys(random.choic(sentence))\n",
    "WebDriverWait(driver, 10).until(EC.presence_of_element_located((By.TAG_NAME, \"textarea\")))[0].send_keys(random.choice(sentence))\n"
   ]
  }
 ],
 "metadata": {
  "kernelspec": {
   "display_name": "Python 2",
   "language": "python",
   "name": "python2"
  },
  "language_info": {
   "codemirror_mode": {
    "name": "ipython",
    "version": 2
   },
   "file_extension": ".py",
   "mimetype": "text/x-python",
   "name": "python",
   "nbconvert_exporter": "python",
   "pygments_lexer": "ipython2",
   "version": "2.7.13"
  }
 },
 "nbformat": 4,
 "nbformat_minor": 1
}
