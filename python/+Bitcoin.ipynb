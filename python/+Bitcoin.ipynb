{
 "cells": [
  {
   "cell_type": "code",
   "execution_count": 22,
   "metadata": {},
   "outputs": [],
   "source": [
    "from yahoo_finance import Currency\n",
    "\n",
    "cur = Currency('USDKRW')\n",
    "USDKRW = float(cur.get_bid())"
   ]
  },
  {
   "cell_type": "code",
   "execution_count": 2,
   "metadata": {},
   "outputs": [],
   "source": [
    "import requests\n",
    "\n",
    "source = requests.get(\"https://www.korbit.co.kr/?locale=ko\")\n",
    "print(source.text)"
   ]
  },
  {
   "cell_type": "code",
   "execution_count": 3,
   "metadata": {},
   "outputs": [],
   "source": [
    "#print source.text\n",
    "from bs4 import BeautifulSoup\n",
    "soup = BeautifulSoup(source.text, 'html.parser')\n",
    "x = soup.find_all('div', {'class' : 'js-react-on-rails-component'})\n",
    "print(x[0][\"data-props\"])"
   ]
  },
  {
   "cell_type": "code",
   "execution_count": 4,
   "metadata": {},
   "outputs": [],
   "source": [
    "import json\n",
    "s = x[0]['data-props']\n",
    "a = s.replace(\"'\", '\"')\n",
    "d = json.loads(a)\n"
   ]
  },
  {
   "cell_type": "code",
   "execution_count": 5,
   "metadata": {},
   "outputs": [],
   "source": [
    "KR_bitcoin = int(d[\"korbitLastPrice\"].replace(\",\", \"\"))"
   ]
  },
  {
   "cell_type": "code",
   "execution_count": 9,
   "metadata": {},
   "outputs": [],
   "source": [
    "source = requests.get(\"https://cex.io\")\n",
    "soup = BeautifulSoup(source.text, 'html.parser')\n",
    "x = soup.find_all(\"span\", {\"class\" : \"btn_caption\"})\n",
    "USD_bitcoin = float(x[0].text)"
   ]
  },
  {
   "cell_type": "code",
   "execution_count": 16,
   "metadata": {},
   "outputs": [
    {
     "name": "stdout",
     "output_type": "stream",
     "text": [
      "2859.835\n"
     ]
    }
   ],
   "source": [
    "print(USD_bitcoin)"
   ]
  },
  {
   "cell_type": "code",
   "execution_count": 25,
   "metadata": {},
   "outputs": [
    {
     "name": "stdout",
     "output_type": "stream",
     "text": [
      "3356000\n",
      "3207161.96\n"
     ]
    }
   ],
   "source": [
    "print(KR_bitcoin)\n",
    "print(\"%.2f\" % (USD_bitcoin * USDKRW))"
   ]
  },
  {
   "cell_type": "code",
   "execution_count": null,
   "metadata": {
    "collapsed": true
   },
   "outputs": [],
   "source": []
  },
  {
   "cell_type": "code",
   "execution_count": null,
   "metadata": {
    "collapsed": true
   },
   "outputs": [],
   "source": []
  }
 ],
 "metadata": {
  "kernelspec": {
   "display_name": "Python 3",
   "language": "python",
   "name": "python3"
  },
  "language_info": {
   "codemirror_mode": {
    "name": "ipython",
    "version": 3
   },
   "file_extension": ".py",
   "mimetype": "text/x-python",
   "name": "python",
   "nbconvert_exporter": "python",
   "pygments_lexer": "ipython3",
   "version": "3.6.1"
  }
 },
 "nbformat": 4,
 "nbformat_minor": 2
}
