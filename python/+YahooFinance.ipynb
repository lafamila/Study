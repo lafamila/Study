{
 "cells": [
  {
   "cell_type": "code",
   "execution_count": 15,
   "metadata": {},
   "outputs": [
    {
     "data": {
      "text/plain": [
       "'SamsungElec'"
      ]
     },
     "execution_count": 15,
     "metadata": {},
     "output_type": "execute_result"
    }
   ],
   "source": [
    "from yahoo_finance import Share\n",
    "\n",
    "samsung = Share('005930.KS')\n",
    "samsung.get_name()"
   ]
  },
  {
   "cell_type": "markdown",
   "metadata": {},
   "source": [
    "• refresh() <br/>\n",
    "• get_price() <br/>\n",
    "• get_change() <br/>\n",
    "• get_percent_change() <br/>\n",
    "• get_volume() <br/>\n",
    "• get_prev_close() <br/>\n",
    "• get_open() <br/>\n",
    "• get_avg_daily_volume() <br/>\n",
    "• get_stock_exchange() <br/>\n",
    "• get_market_cap() <br/>\n",
    "• get_book_value() <br/>\n",
    "• get_ebitda() <br/>\n",
    "• get_dividend_share() <br/>\n",
    "• get_dividend_yield() <br/>\n",
    "• get_earnings_share() <br/>\n",
    "• get_days_high() <br/>\n",
    "• get_days_low() <br/>\n",
    "• get_year_high() <br/>\n",
    "• get_year_low() <br/>\n",
    "• get_50day_moving_avg() <br/>\n",
    "• get_200day_moving_avg() <br/>\n",
    "• get_price_earnings_ratio() <br/>\n",
    "• get_price_earnings_growth_ratio() <br/>\n",
    "• get_price_sales() <br/>\n",
    "• get_price_book() <br/>\n",
    "• get_short_ratio() <br/>\n",
    "• get_trade_datetime() <br/>\n",
    "• get_historical(start_date, end_date) <br/>\n",
    "• get_name() <br/>\n",
    "• get_percent_change_from_year_high() <br/>\n",
    "• get_percent_change_from_year_low() <br/>\n",
    "• get_change_from_year_low() <br/>\n",
    "• get_change_from_year_high() <br/>\n",
    "• get_percent_change_from_200_day_moving_average() <br/>\n",
    "• get_change_from_200_day_moving_average() <br/>\n",
    "• get_percent_change_from_50_day_moving_average() <br/>\n",
    "• get_change_from_50_day_moving_average() <br/>\n",
    "• get_EPS_estimate_next_quarter() <br/>\n",
    "• get_EPS_estimate_next_year() <br/>\n",
    "• get_ex_dividend_date() <br/>\n",
    "• get_EPS_estimate_current_year() <br/>\n",
    "• get_price_EPS_estimate_next_year() <br/>\n",
    "• get_price_EPS_estimate_current_year() <br/>\n",
    "• get_one_yr_target_price() <br/>\n",
    "• get_change_percent_change() <br/>\n",
    "• get_dividend_pay_date() <br/>\n",
    "• get_currency() <br/>\n",
    "• get_last_trade_with_time() <br/>\n",
    "• get_days_range() <br/>\n",
    "• get_year_range() <br/>\n"
   ]
  },
  {
   "cell_type": "code",
   "execution_count": null,
   "metadata": {
    "collapsed": true
   },
   "outputs": [],
   "source": [
    "from yahoo_finance import Currency\n",
    "\n",
    "cur = Currency('USDKRW')\n",
    "print cur.get_bid()"
   ]
  },
  {
   "cell_type": "markdown",
   "metadata": {},
   "source": [
    "• get_bid() <br/>\n",
    "• get_ask() <br/>\n",
    "• get_rate() <br/>\n",
    "• get_trade_datetime() <br/>\n",
    "• refresh() <br/>"
   ]
  },
  {
   "cell_type": "code",
   "execution_count": 26,
   "metadata": {},
   "outputs": [],
   "source": [
    "# 주식종목 코드를 저장해둔 엑셀로부터  dictionary 만들고\n",
    "# yahoo finance 사용해서 정보를 얻는 소스코드"
   ]
  }
 ],
 "metadata": {
  "kernelspec": {
   "display_name": "Python 3",
   "language": "python",
   "name": "python3"
  },
  "language_info": {
   "codemirror_mode": {
    "name": "ipython",
    "version": 3
   },
   "file_extension": ".py",
   "mimetype": "text/x-python",
   "name": "python",
   "nbconvert_exporter": "python",
   "pygments_lexer": "ipython3",
   "version": "3.6.1"
  }
 },
 "nbformat": 4,
 "nbformat_minor": 2
}
