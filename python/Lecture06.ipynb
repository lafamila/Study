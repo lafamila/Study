{
 "cells": [
  {
   "cell_type": "markdown",
   "metadata": {},
   "source": [
    "# <딕셔너리 자료형>\n",
    "### - 딕셔너리 (dictionary)\n",
    "list 나 tuple 과는 달리 순서가 없는 key-value 대응 관계를 갖는 자료형<br>\n",
    "숫자 모음이나 변수, 값들과 그 key를 : 와 {}로 감싸면 된다.\n",
    "<b>딕셔너리 이름 = { key1 : value1, key2 : value2, .. }</b>로 사용한다.<br>\n",
    "초기화 시에는 <b>a = dict()</b> 로도 사용 가능하다.<br>\n",
    "key 로 모든 \"변할 수 없는 자료형\" 이 가능하기 때문에, list는 key로 사용할 수 없지만 tuple은 key로 사용 가능하다."
   ]
  },
  {
   "cell_type": "code",
   "execution_count": 4,
   "metadata": {
    "collapsed": false
   },
   "outputs": [
    {
     "name": "stdout",
     "output_type": "stream",
     "text": [
      "{}\n",
      "{'world': 2, 'hello': 1}\n",
      "{1: 'dictionary', 2: 'second'}\n",
      "<type 'dict'>\n",
      "<type 'dict'>\n",
      "<type 'dict'>\n"
     ]
    }
   ],
   "source": [
    "d1 = {}\n",
    "d2 = {\"hello\" : 1, \"world\" : 2}\n",
    "d3 = {1 : \"dictionary\", 2 : \"second\"}\n",
    "\n",
    "print d1\n",
    "print d2\n",
    "print d3\n",
    "\n",
    "print type(d1)\n",
    "print type(d2)\n",
    "print type(d3)"
   ]
  },
  {
   "cell_type": "code",
   "execution_count": 5,
   "metadata": {
    "collapsed": true
   },
   "outputs": [],
   "source": [
    "# 딕셔너리 / 튜플 / print 와 raw_input / for / while / if elif else / Library 설명 및  documentation 찾고 쓰는 법 (anaconda를 설치한 이유)/ Beautifulsoup 사용하기위해\n",
    "# 페이지 소스보기 로 단서를 얻는법 및 단서로 찾는법 / while True 와 time.sleep 를 이용해 실시간 트래킹 하는법 / 한글 사용 #-~ㅁㄴㅇㄻㄴㄻㄴㄹutf-78afdsdfasf"
   ]
  },
  {
   "cell_type": "markdown",
   "metadata": {},
   "source": [
    "### - 추가, 삭제\n",
    "\n",
    "dictionary 또한 list나 tuple 과는 다르게 순서가 없기 때문에 indexing이나 slicing을 할 수 없다.<br>\n",
    "다만 tuple과는 다르게 추가/삭제가 가능하다.\n",
    "\n",
    "#### python 3.x 이후로는 keys() / values() 가 바로 list를 반환하지 않아 list로 변환이 필요함\n",
    "\n",
    "추가 : <b>d1[ newkey ] = value</b><br>\n",
    "삭제 : <b>del d1[ key ]</b><br>\n",
    "모두 지우기 : <b>d1.clear()</b><br>\n",
    "key 가 있는지 조사 : <b>key in d1</b><br>\n",
    "key 모음 반환 (list) : <b>d1.keys()</b><br>\n",
    "value 모음 반환 (list) : <b>d1.values()</b><br>\n",
    "key, value 쌍 반환 (tuple) : <b>d1.items()</b><br>\n",
    "key 로 value 반환 : <b>d1[key]</b> or <b>d1.get(key, default_value(optional))</b><br>\n",
    "##&nbsp;get은 존재하지 않는 key에 대해 오류를 발생시키지 않으며, default value가 있는 경우엔 default value를 반환한다.<br>"
   ]
  },
  {
   "cell_type": "code",
   "execution_count": 8,
   "metadata": {
    "collapsed": false
   },
   "outputs": [
    {
     "name": "stdout",
     "output_type": "stream",
     "text": [
      "{'key3': 3, 'key2': 2, 'key1': 1}\n",
      "{'key3': 3, 'key1': 1}\n",
      "False\n",
      "True\n",
      "['key3', 'key1']\n",
      "[3, 1]\n",
      "[('key3', 3), ('key1', 1)]\n",
      "1\n",
      "0\n"
     ]
    }
   ],
   "source": [
    "d1 = dict()\n",
    "\n",
    "d1[\"key1\"] = 1\n",
    "d1[\"key2\"] = 2\n",
    "d1[\"key3\"] = 3\n",
    "print d1\n",
    "\n",
    "del d1[\"key2\"]\n",
    "print d1\n",
    "\n",
    "print \"key2\" in d1\n",
    "print \"key3\" in d1\n",
    "\n",
    "print d1.keys()\n",
    "\n",
    "print d1.values()\n",
    "\n",
    "print d1.items()\n",
    "\n",
    "print d1[\"key1\"]\n",
    "\n",
    "print d1.get(\"key4\", 0)"
   ]
  }
 ],
 "metadata": {
  "kernelspec": {
   "display_name": "Python 2",
   "language": "python",
   "name": "python2"
  },
  "language_info": {
   "codemirror_mode": {
    "name": "ipython",
    "version": 2
   },
   "file_extension": ".py",
   "mimetype": "text/x-python",
   "name": "python",
   "nbconvert_exporter": "python",
   "pygments_lexer": "ipython2",
   "version": "2.7.13"
  }
 },
 "nbformat": 4,
 "nbformat_minor": 0
}
