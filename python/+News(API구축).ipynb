{
 "cells": [
  {
   "cell_type": "markdown",
   "metadata": {},
   "source": [
    "# 과제 1\n",
    "\n",
    "## requests 라이브러리를 활용하여 Naver API 활용하기\n",
    "특정 검색어(Query)를 Naver News에서 검색한 결과를 통해 최신순 10개의 기사 url 출력하기\n",
    "\n",
    "___\n",
    "\n",
    "### #API 란?\n",
    "*URI*에 *HTTP METHOD*로 요청된 정보를 응답(Response)으로 돌려주는 서비스<br><br>\n",
    "   API를 이용?<br>\n",
    "   &nbsp;&nbsp;&nbsp;해당 회사에서 제공하는 URI에 HTTP METHOD 를 통해 원하는 정보를 요청(Request)하는 것<br>\n",
    "   API를 구축?<br>\n",
    "   &nbsp;&nbsp;&nbsp;제공할 정보를 URI를 통해 응답(Response)으로 돌려주도록 서버를 구현하고 안내하는 것<br>\n",
    "   \n",
    "   REST API<br>\n",
    "   &nbsp;&nbsp;&nbsp;[http://meetup.toast.com/posts/92] 참고\n",
    "\n",
    "### #JSON / XML?\n",
    "제공할 정보를 표현하는 여러가지 양식<br><br>\n",
    "   JSON<br>\n",
    "   &nbsp;&nbsp;&nbsp;프로그래밍에서 사용하기 좋게 key-value 형태로 표현된 데이터<br>\n",
    "```\n",
    "{\n",
    "   \"totalSize\" : 2,\n",
    "   \"data\" : [\n",
    "       {\n",
    "           \"index\" : 1,\n",
    "           \"value\" : \"hello\"\n",
    "       },\n",
    "       {\n",
    "           \"index\" : 2,\n",
    "           \"value\" : \"bye\"\n",
    "       }\n",
    "   ]\n",
    "}\n",
    "```\n",
    "   XML<br>\n",
    "   &nbsp;&nbsp;&nbsp;태그 형태로 표현된 데이터<br>\n",
    "```\n",
    "<?xml version=\"1.0\" encoding=\"UTF-8\"?>\n",
    "<totalSize>2</totalSize>\n",
    "<data>\n",
    "   <index>1</index>\n",
    "   <value>hello</value>\n",
    "</data>\n",
    "<data>\n",
    "   <index>2</index>\n",
    "   <value>bye</value>\n",
    "</data>\n",
    "```"
   ]
  },
  {
   "cell_type": "markdown",
   "metadata": {},
   "source": [
    "##### requests 활용\n",
    "requests 라이브러리는 특정 url에 요청을 보낼 수 있도록 특화된 라이브러리\n",
    "\n",
    "<b>get()</b> : URL에 요청을 보냄 <br>\n",
    "&nbsp;&nbsp;&nbsp;&nbsp;&nbsp;&nbsp;&nbsp;&nbsp;&nbsp;&nbsp;&nbsp;<b>RETURN</b> : 응답코드, 데이터<br>\n",
    "\n",
    "\n",
    "<b>응답코드</b> : 요청을 보낸 서버의 상태를 의미하는 코드<br>\n",
    "<b>데이터</b> : HTML 코드 / json / xml / ...\n",
    "\n",
    "<b>get(url, params)</b> : params(Dict)를 이용하여 get방식으로 URL에 요청을 보냄 <br>\n",
    "&nbsp;&nbsp;&nbsp;&nbsp;&nbsp;&nbsp;&nbsp;&nbsp;&nbsp;&nbsp;&nbsp;<b>RETURN</b> : 응답코드, 데이터<br>\n",
    "\n",
    "<b>post(url, data)</b> : data(Dict)를 이용하여 post방식으로 URL에 요청을 보냄 <br>\n",
    "&nbsp;&nbsp;&nbsp;&nbsp;&nbsp;&nbsp;&nbsp;&nbsp;&nbsp;&nbsp;&nbsp;<b>RETURN</b> : 응답코드, 데이터<br>\n",
    "\n",
    "<b>get/post(url, header)</b> : header(Dict)를 이용하여 get/post방식으로 URL에 요청을 보냄 <br>\n",
    "&nbsp;&nbsp;&nbsp;&nbsp;&nbsp;&nbsp;&nbsp;&nbsp;&nbsp;&nbsp;&nbsp;<b>RETURN</b> : 응답코드, 데이터<br>"
   ]
  },
  {
   "cell_type": "code",
   "execution_count": null,
   "metadata": {},
   "outputs": [],
   "source": [
    "import requests\n",
    "\n",
    "resp = requests.get(\"http://www.naver.com\")\n",
    "\n",
    "#응답 코드\n",
    "print(resp.status_code)\n",
    "\n",
    "#데이터\n",
    "print(resp.text)\n",
    "\n",
    "#GET 방식\n",
    "resp = requests.get(\"http://www.naver.com\", params={\"key\" : \"value\"})\n",
    "\n",
    "#응답 데이터가 json이라면\n",
    "result = resp.json()\n",
    "print(result)"
   ]
  },
  {
   "attachments": {
    "image.png": {
     "image/png": "[encoded data removed]"
    }
   },
   "cell_type": "markdown",
   "metadata": {},
   "source": [
    "### #Naver News API\n",
    "\n",
    "<b>URL : </b><br>\n",
    "https://openapi.naver.com/v1/search/news.json <br><br>\n",
    "\n",
    "<b>Header :</b><br>\n",
    "X-Naver-Client-Id<br>\n",
    "X-Naver-Client-Secret<br><br>\n",
    "\n",
    "<b>Get data :</b><br>\n",
    "![image.png](attachment:image.png)\n",
    "\n"
   ]
  },
  {
   "cell_type": "markdown",
   "metadata": {},
   "source": [
    "# 과제 2\n",
    "\n",
    "## requests 와 BeautifulSoup 라이브러리를 활용하여 기사 내용 크롤링하기\n",
    "각 언론사의 HTML 코드를 requests를 통해 받아온 후 BeautifulSoup를 통해 기사 내용을 가져오기\n",
    "___\n",
    "\n",
    "### #HTML 이란?\n",
    "*웹페이지*를 구성하는 마크업 언어로 < TAG_NAME PROPERTY1=VALUE1 ...> < /TAG_NAME> 와 같이 나타난다.<br><br>\n",
    "   파싱(Parsing)?<br>\n",
    "   &nbsp;&nbsp;&nbsp;문자열에서 원하는 부분을 추출하는 것<br>\n",
    "   \n",
    "### #BeautifulSoup 사용법?\n",
    "```\n",
    "from bs4 import BeautifulSoup\n",
    "soup = BeautifulSoup(HTML코드, \"html.parser\")\n",
    "tag = soup.find(TAG_NAME, {PROPERTY1:VALUE1, ...})\n",
    "print(tag.text)\n",
    "```"
   ]
  },
  {
   "cell_type": "code",
   "execution_count": 13,
   "metadata": {},
   "outputs": [
    {
     "name": "stdout",
     "output_type": "stream",
     "text": [
      "기사내용\n"
     ]
    }
   ],
   "source": [
    "from bs4 import BeautifulSoup\n",
    "soup = BeautifulSoup(\"<html><head><title>TEST</title></head><body><div class='content'>기사내용</div></body></html>\", \"html.parser\")\n",
    "\n",
    "div = soup.find(\"div\", {\"class\" : \"content\"})\n",
    "print(div.text)"
   ]
  },
  {
   "cell_type": "markdown",
   "metadata": {},
   "source": [
    "# 과제 3\n",
    "\n",
    "## Wit Application을 생성하고 Wit 라이브러리를 이용하여 Entity 추출하기\n",
    "https://wit.ai/ 에서 Wit Application을 생성하고 학습시키기\n",
    "\n",
    "Wit 라이브러리를 이용해 문자열을 Wit Application에 전송하여 Entity 추출한 결과 확인하기\n",
    "___\n",
    "\n",
    "### #Wit 이란?\n",
    "*딥러닝*을 이용하여 자연어 내부에서 특정 Entity 를 추출할 수 있도록 학습하는 어플리케이션.<br><br>\n",
    "   \n",
    "### #Wit 사용법?\n",
    "```\n",
    "from wit import Wit\n",
    "client = Wit(\"Secret Code\")\n",
    "res = client.message(\"보낼 문자열\")\n",
    "print(res)\n",
    "\n",
    "```"
   ]
  },
  {
   "cell_type": "code",
   "execution_count": 15,
   "metadata": {},
   "outputs": [
    {
     "name": "stdout",
     "output_type": "stream",
     "text": [
      "2300\n"
     ]
    }
   ],
   "source": [
    "from wit import Wit\n",
    "client = Wit(\"WHG2RRVUQMDEKFMJMWOUMJ722PBE36AM\")\n",
    "res = client.message(\"가격은 2300원 입니다.\")\n",
    "\n",
    "#print(res)\n",
    "print(res[\"entities\"][\"amount_of_money\"][0][\"value\"])"
   ]
  },
  {
   "cell_type": "markdown",
   "metadata": {},
   "source": [
    "# 과제 4\n",
    "\n",
    "## PyMySQL 라이브러리를 이용해 DB에 연결하여 특정 문자열이 있는지 검사하기\n",
    "https://wit.ai/ 에서 Wit Application을 생성하고 학습시키기\n",
    "\n",
    "Wit 라이브러리를 이용해 문자열을 Wit Application에 전송하여 Entity 추출한 결과 확인하기\n",
    "___\n",
    "\n",
    "### #PyMySQL 사용법?\n",
    "```\n",
    "conn = pymysql.connect(host=\"주소\", user=\"아이디\", password=\"비밀번호\", port=포트번호, database=\"DB이름\",charset=\"utf8mb4\")\n",
    "with conn.cursor() as cursor:\n",
    "    sql = \"SQL 쿼리\"\n",
    "    cursor.execute(sql, (쿼리에 넣을 값,))\n",
    "    res = cursor.fetchall()\n",
    "\n",
    "```\n",
    "\n",
    "### #PyMySQL 에서 Query 사용법?\n",
    "```\n",
    "sql = \"SELECT column_name FROM table_name WHERE column_name1=%s AND column_name2=%s\"<br>\n",
    "cursor.execute(sql, (value1, value2))<br>\n",
    "```\n"
   ]
  },
  {
   "cell_type": "code",
   "execution_count": null,
   "metadata": {},
   "outputs": [],
   "source": [
    "import pymysql\n",
    "conn = pymysql.connect(host=\"sic.hanyang.ac.kr\", user=\"jun6139\", password=\"1234\", port=8080, database=\"news\",\n",
    "                       charset=\"utf8mb4\")\n",
    "\n",
    "with conn.cursor() as cursor:\n",
    "    sql = \"SELECT * from article_entries WHERE pUrl = %s\"\n",
    "    cursor.execute(sql, (url,))\n",
    "    res = cursor.fetchall()\n",
    "    if len(res) > 0:\n",
    "        print(\"이미 있음\")"
   ]
  },
  {
   "cell_type": "markdown",
   "metadata": {},
   "source": [
    "# 과제 5\n",
    "\n",
    "## Flask 라이브러리를 이용하여 특정 url에 request하면 hello world 라고 response 보내기\n",
    "API를 구성하기\n",
    "___\n"
   ]
  },
  {
   "cell_type": "code",
   "execution_count": null,
   "metadata": {},
   "outputs": [],
   "source": []
  }
 ],
 "metadata": {
  "kernelspec": {
   "display_name": "Python 3",
   "language": "python",
   "name": "python3"
  },
  "language_info": {
   "codemirror_mode": {
    "name": "ipython",
    "version": 3
   },
   "file_extension": ".py",
   "mimetype": "text/x-python",
   "name": "python",
   "nbconvert_exporter": "python",
   "pygments_lexer": "ipython3",
   "version": "3.6.2"
  }
 },
 "nbformat": 4,
 "nbformat_minor": 2
}
