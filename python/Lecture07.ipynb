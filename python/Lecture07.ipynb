{
 "cells": [
  {
   "cell_type": "markdown",
   "metadata": {},
   "source": [
    "# <제어문>\n",
    "## - Control statement\n",
    "\n",
    "프로그램의 흐름을 제어하는 방법<br>\n",
    "<b>if, else, elif, while, for</b> 와 같은 keyword를 사용한다."
   ]
  },
  {
   "cell_type": "code",
   "execution_count": 5,
   "metadata": {},
   "outputs": [
    {
     "name": "stdout",
     "output_type": "stream",
     "text": [
      "12345678910\n",
      "2345678910\n",
      "345678910\n",
      "45678910\n",
      "5678910\n",
      "678910\n",
      "78910\n",
      "8910\n",
      "910\n",
      "10\n"
     ]
    }
   ],
   "source": [
    "for i in range(10):\n",
    "    while True:\n",
    "        i = i + 1\n",
    "        print(i, end=\"\")\n",
    "        if i >= 10:\n",
    "            break\n",
    "    print()"
   ]
  },
  {
   "cell_type": "markdown",
   "metadata": {},
   "source": [
    "## - 조건문 (Conditional statement)\n",
    "\n",
    "<b>if 조건식 :<br>\n",
    "&nbsp;&nbsp;&nbsp;&nbsp;수행할 명령1<br>\n",
    "&nbsp;&nbsp;&nbsp;&nbsp;수행할 명령2<br></b>\n",
    "<br>\n",
    "\n",
    "조건식의 결과가 True 이면 들여쓰기한 명령을 수행한다.<br><br>\n",
    "\n",
    "\n",
    "<b>elif 조건식 :<br>\n",
    "&nbsp;&nbsp;&nbsp;&nbsp;수행할 명령1<br>\n",
    "&nbsp;&nbsp;&nbsp;&nbsp;수행할 명령2<br></b>\n",
    "<br>\n",
    "\n",
    "if 가 반드시 있어야 쓸 수 있는 제어문으로, if 의 조건문이 참이 아닐때 다른 조건식을 확인한다.<br><br>\n",
    "\n",
    "<b>else :<br>\n",
    "&nbsp;&nbsp;&nbsp;&nbsp;수행할 명령1<br>\n",
    "&nbsp;&nbsp;&nbsp;&nbsp;수행할 명령2<br></b>\n",
    "<br>\n",
    "\n",
    "if 가 반드시 있어야 쓸 수 있는 제어문으로, if 의 조건문이 참이 아닐때 수행된다."
   ]
  },
  {
   "cell_type": "code",
   "execution_count": 6,
   "metadata": {},
   "outputs": [
    {
     "name": "stdout",
     "output_type": "stream",
     "text": [
      "num은 5입니다.\n"
     ]
    }
   ],
   "source": [
    "num = 5\n",
    "\n",
    "if num == 1:\n",
    "    print(\"num은 1입니다.\")\n",
    "elif num == 2:\n",
    "    print(\"num은 2입니다.\")\n",
    "elif num == 3 or num == 4:\n",
    "    print(\"num은 3또는 4입니다.\")\n",
    "else:\n",
    "    print(\"num은 5입니다.\")"
   ]
  },
  {
   "cell_type": "markdown",
   "metadata": {},
   "source": [
    "## - 반복문 (Iteration statement)\n",
    "\n",
    "<b>while 조건식 :<br>\n",
    "&nbsp;&nbsp;&nbsp;&nbsp;수행할 명령1<br>\n",
    "&nbsp;&nbsp;&nbsp;&nbsp;수행할 명령2<br></b>\n",
    "<br>\n",
    "\n",
    "조건식의 결과가 True 이면 들여쓰기한 명령을 수행한다.<br>\n",
    "수행할 명령이 끝나면 다시 조건식을 확인하며 반복한다.<br><br>\n",
    "\n",
    "\n",
    "<b>for 변수 in 리스트<br>\n",
    "&nbsp;&nbsp;&nbsp;&nbsp;수행할 명령1<br>\n",
    "&nbsp;&nbsp;&nbsp;&nbsp;수행할 명령2<br></b>\n",
    "<br>\n",
    "\n",
    "리스트 내의 요소를 순서대로 하나씩 꺼내서 변수에 저장한 후 들여쓰기한 명령을 수행한다.<br><br>\n",
    "\n",
    "for 문에 같이 자주 사용되는 정해진 범위의 숫자 리스트를 반환해주는 메소드로<br> <b>range(</b> start(optional), <b>end</b>, step(optional) <b>)</b> 가 있다."
   ]
  },
  {
   "cell_type": "code",
   "execution_count": 7,
   "metadata": {},
   "outputs": [
    {
     "name": "stdout",
     "output_type": "stream",
     "text": [
      "10987654321\n",
      "Hellolistfor\n",
      "0123456789"
     ]
    }
   ],
   "source": [
    "num = 10\n",
    "while num > 0:\n",
    "    print(num, end=\"\") \n",
    "    num = num - 1\n",
    "    \n",
    "print()\n",
    "\n",
    "for t in [\"Hello\", \"list\", \"for\"]:\n",
    "    print(t,end=\"\")\n",
    "    \n",
    "print()\n",
    "\n",
    "for i in range(10):\n",
    "    print(i,end=\"\")"
   ]
  },
  {
   "cell_type": "markdown",
   "metadata": {},
   "source": [
    "### 반복문과 조건문 활용하기\n",
    "\n",
    "a = [1, 2, 3, 4]<br>\n",
    "<b>[x**2 for x in a]</b> 와 같이 for의 결과를 바로 리스트로 만들 수 있다."
   ]
  },
  {
   "cell_type": "code",
   "execution_count": 10,
   "metadata": {},
   "outputs": [
    {
     "name": "stdout",
     "output_type": "stream",
     "text": [
      "[1, 4, 9, 16]\n"
     ]
    }
   ],
   "source": [
    "a = [1, 2, 3 ,4]\n",
    "print([x**2 for x in a])"
   ]
  },
  {
   "cell_type": "code",
   "execution_count": 11,
   "metadata": {},
   "outputs": [
    {
     "name": "stdout",
     "output_type": "stream",
     "text": [
      "3이 있음\n"
     ]
    }
   ],
   "source": [
    "a = [2, 3]\n",
    "\n",
    "if 3 in a:\n",
    "    print(\"3이 있음\")\n",
    "else :\n",
    "    if 2 in a:\n",
    "        print(\"2가 있음\")\n",
    "\n",
    "    print(\"없음\")"
   ]
  }
 ],
 "metadata": {
  "kernelspec": {
   "display_name": "Python 3",
   "language": "python",
   "name": "python3"
  },
  "language_info": {
   "codemirror_mode": {
    "name": "ipython",
    "version": 3
   },
   "file_extension": ".py",
   "mimetype": "text/x-python",
   "name": "python",
   "nbconvert_exporter": "python",
   "pygments_lexer": "ipython3",
   "version": "3.6.2"
  }
 },
 "nbformat": 4,
 "nbformat_minor": 1
}
