{
 "cells": [
  {
   "cell_type": "markdown",
   "metadata": {},
   "source": [
    "# <문자열 자료형>\n",
    "\n",
    "### - 문자열(String)\n",
    "문자, 단어로 구성된 문자들의 집합."
   ]
  },
  {
   "cell_type": "code",
   "execution_count": 1,
   "metadata": {
    "collapsed": false
   },
   "outputs": [
    {
     "name": "stdout",
     "output_type": "stream",
     "text": [
      "Hello world\n",
      "Hello world\n",
      "<type 'str'>\n",
      "<type 'str'>\n"
     ]
    }
   ],
   "source": [
    "a = \"Hello world\"\n",
    "b = 'Hello world'\n",
    "\n",
    "print a\n",
    "print b\n",
    "\n",
    "print type(a)\n",
    "print type(b)"
   ]
  },
  {
   "cell_type": "markdown",
   "metadata": {},
   "source": [
    "#### 큰따옴표 / 작은따옴표\n",
    "문자열로 만들기 위해서는 큰따옴표나 작은따옴표로 감싸면 되는데, 그 둘은 차이가 없음을 위에서 볼 수 있다. 이는 바로 큰따옴표나 작은따옴표를 문자열에 포함시키 위함이다."
   ]
  },
  {
   "cell_type": "code",
   "execution_count": 3,
   "metadata": {
    "collapsed": false
   },
   "outputs": [
    {
     "name": "stdout",
     "output_type": "stream",
     "text": [
      "Hello world, 'New world!' \n",
      "He said, \"Thank you!\" \n",
      "<type 'str'>\n",
      "<type 'str'>\n"
     ]
    }
   ],
   "source": [
    "a = \"Hello world, 'New world!' \"\n",
    "b = 'He said, \"Thank you!\" '\n",
    "\n",
    "print a\n",
    "print b\n",
    "\n",
    "print type(a)\n",
    "print type(b)"
   ]
  },
  {
   "cell_type": "markdown",
   "metadata": {},
   "source": [
    "또는 '\\' 를 이용해 포함시킬 수 있다."
   ]
  },
  {
   "cell_type": "code",
   "execution_count": 5,
   "metadata": {
    "collapsed": false
   },
   "outputs": [
    {
     "name": "stdout",
     "output_type": "stream",
     "text": [
      "Hello world, 'New world!' \n",
      "He said, \"Thank you!\" \n"
     ]
    }
   ],
   "source": [
    "a = 'Hello world, \\'New world!\\' '\n",
    "b = \"He said, \\\"Thank you!\\\" \"\n",
    "\n",
    "print a\n",
    "print b"
   ]
  },
  {
   "cell_type": "markdown",
   "metadata": {},
   "source": [
    "### - 이스케이프 코드 (Escape Code)\n",
    "이스케이프 코드란 문자열에 포함되는 특수문자로, 백슬래시(\\)를 이용한다.<br>\n",
    "<b>\\n</b> : 줄바꿈<br>\n",
    "<b>\\t</b>    : 수평 탭<br>\n",
    "<b>\\\\\\</b>     : 문자 \"\\\"<br>\n",
    "<b>\\'</b>    : 작은 따옴표<br>\n",
    "<b>\\\"</b>  : 큰 따옴표\n"
   ]
  },
  {
   "cell_type": "code",
   "execution_count": 7,
   "metadata": {
    "collapsed": false
   },
   "outputs": [
    {
     "name": "stdout",
     "output_type": "stream",
     "text": [
      "'Hello, world' \n",
      "He think. \n",
      " \t \" Hi!! \"\n"
     ]
    }
   ],
   "source": [
    "sentence = \"\\'Hello, world\\' \\nHe think. \\n \\t \\\" Hi!! \\\"\"\n",
    "print sentence"
   ]
  },
  {
   "cell_type": "markdown",
   "metadata": {},
   "source": [
    "### - 문자열 편집\n",
    "문자열에도 '+' 와 ' \\* ' 를 사용할 수 있다. <br>\n",
    "\\+ 는 문자열을 더하는 것.<br>\n",
    "\\* &nbsp;는 문자열을 여러번 더하는 것을 의미한다."
   ]
  },
  {
   "cell_type": "code",
   "execution_count": 8,
   "metadata": {
    "collapsed": false
   },
   "outputs": [
    {
     "name": "stdout",
     "output_type": "stream",
     "text": [
      "Hello, world\n",
      "worldworldworldworldworldworldworldworldworldworld\n"
     ]
    }
   ],
   "source": [
    "a = \"Hello, \"\n",
    "b = \"world\"\n",
    "\n",
    "print a+b\n",
    "print b * 10"
   ]
  },
  {
   "cell_type": "markdown",
   "metadata": {},
   "source": [
    "### - 인덱싱 (Indexing) 과 슬라이싱(Slicing)\n",
    "인덱싱이란 문자열 내의 문자들을 순서대로 가르키는 걸 의미하며, 슬라이싱은 문자열의 일부를 추출하는 것을 의미한다.<br>\n",
    "첫번째 문자부터 순서대로 0, 1, 2... 의 index를 가지며, [0] 과 같이 사용한다.<br>\n",
    "만약 0부터 4까지의 index 를 갖는 부분을 추출하고 싶을 땐 [0:5] 와 같이 사용한다. "
   ]
  },
  {
   "cell_type": "code",
   "execution_count": 12,
   "metadata": {
    "collapsed": false
   },
   "outputs": [
    {
     "name": "stdout",
     "output_type": "stream",
     "text": [
      "e\n",
      "Hello\n"
     ]
    }
   ],
   "source": [
    "a = \"Hello, world!\"\n",
    "print a[1]\n",
    "print a[0:5]"
   ]
  },
  {
   "cell_type": "markdown",
   "metadata": {},
   "source": [
    "만약 인덱싱을 끝에서부터 하고 싶으면 - 를 사용하면 된다.<br>\n",
    "또한 슬라이싱에서 시작위치나 끝위치를 지정하지 않으면 끝까지 지정한다."
   ]
  },
  {
   "cell_type": "code",
   "execution_count": 20,
   "metadata": {
    "collapsed": false
   },
   "outputs": [
    {
     "name": "stdout",
     "output_type": "stream",
     "text": [
      "!\n",
      "world!\n"
     ]
    }
   ],
   "source": [
    "a = \"Hello, world!\"\n",
    "print a[-1]\n",
    "print a[7:]"
   ]
  },
  {
   "cell_type": "markdown",
   "metadata": {},
   "source": [
    "### - 문자열 포매팅 (Formatting)\n",
    "문자열 사이에 변수나 값을 직접 대입하여 문자열을 만들고 싶을땐 Formatting을 사용한다.<br>\n",
    "Formatting 은 <b>{}와 .format()</b> 이나 <b>포맷코드와 %</b>를 사용한다.<br>\n",
    "포맷코드란 문자열 한가운데에 자료형에 따라 구멍을 뚫는다고 생각하면 된다.<br>\n",
    "<b>정수 : %d<br>\n",
    "문자열 : %s<br>\n",
    "문자 : %c<br>\n",
    "실수 : %f<br>\n",
    "8진수 : %o<br>\n",
    "16진수 : %x<br>\n",
    "% : %%</b>"
   ]
  },
  {
   "cell_type": "code",
   "execution_count": 18,
   "metadata": {
    "collapsed": false
   },
   "outputs": [
    {
     "name": "stdout",
     "output_type": "stream",
     "text": [
      "a is 3 and b is Hello\n",
      "a is 3 and b is Hello\n"
     ]
    }
   ],
   "source": [
    "a = 3\n",
    "b = \"Hello\"\n",
    "print \"a is {} and b is {}\".format(a, b)\n",
    "print \"a is %d and b is %s\" % (a, b)"
   ]
  }
 ],
 "metadata": {
  "kernelspec": {
   "display_name": "Python 2",
   "language": "python",
   "name": "python2"
  },
  "language_info": {
   "codemirror_mode": {
    "name": "ipython",
    "version": 2
   },
   "file_extension": ".py",
   "mimetype": "text/x-python",
   "name": "python",
   "nbconvert_exporter": "python",
   "pygments_lexer": "ipython2",
   "version": "2.7.11"
  }
 },
 "nbformat": 4,
 "nbformat_minor": 0
}
