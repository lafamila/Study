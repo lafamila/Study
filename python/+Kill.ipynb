{
 "cells": [
  {
   "cell_type": "code",
   "execution_count": 1,
   "metadata": {},
   "outputs": [],
   "source": [
    "import requests\n",
    "from bs4 import BeautifulSoup"
   ]
  },
  {
   "cell_type": "code",
   "execution_count": 3,
   "metadata": {},
   "outputs": [],
   "source": [
    "url = requests.get(\"http://www.op.gg/summoner/userName=%EB%B2%84%EA%B1%B0%EC%8A%A4%EC%94%A8%EB%B3%91\")"
   ]
  },
  {
   "cell_type": "code",
   "execution_count": 37,
   "metadata": {},
   "outputs": [],
   "source": [
    "import codecs\n",
    "\n",
    "with codecs.open('C:\\\\Users\\\\lafamila\\\\Desktop\\\\죽여버릴거야\\\\main.txt', 'r', \"utf-8\") as myfile:\n",
    "    html=myfile.read().replace('\\n', '')"
   ]
  },
  {
   "cell_type": "code",
   "execution_count": 38,
   "metadata": {},
   "outputs": [],
   "source": [
    "soup = BeautifulSoup(html, 'html.parser')"
   ]
  },
  {
   "cell_type": "code",
   "execution_count": 34,
   "metadata": {},
   "outputs": [],
   "source": [
    "targets = soup.find_all(\"div\", {\"class\" : \"Summoner Requester\"})"
   ]
  },
  {
   "cell_type": "code",
   "execution_count": 56,
   "metadata": {},
   "outputs": [],
   "source": [
    "a = {}\n",
    "\n",
    "for target in targets:\n",
    "    #    print(target.parent.parent.parent.find(\"span\", {\"class\" : \"_timeago _timeCountAssigned tip\"})[\"title\"])\n",
    "    duos = target.parent.find_all(\"a\")\n",
    "    for duo in duos:\n",
    "        if duo.text in a:\n",
    "            a[duo.text] += 1\n",
    "        else:\n",
    "            a[duo.text] = 1\n",
    "\n",
    "\n"
   ]
  },
  {
   "cell_type": "code",
   "execution_count": 57,
   "metadata": {},
   "outputs": [
    {
     "name": "stdout",
     "output_type": "stream",
     "text": [
      "큰 꼭 추 929\n",
      "버거스씨병 227\n",
      "권정한 106\n",
      "부용리 23\n",
      "똥마려운농락녀 33\n",
      "훈남도형이 8\n",
      "토마토호빵 10\n",
      "롤팀운존망겜 20\n",
      "MIAGI 65\n",
      "쨔져뿌잉뿌잉 38\n",
      "Calvin KleinJean 26\n",
      "뎡 연 4\n",
      "쭈돈나 10\n",
      "대 왕 부 럴 11\n",
      "경영태 13\n",
      "SeKine 3\n",
      "헤븐스키 44\n",
      "알리스타 고추 22\n",
      "이놈스키 8\n",
      "샤워신 3\n",
      "눈꽃스노윙 13\n",
      "코딱지마시쪄 20\n",
      "빽핑찍음던질게욘 78\n",
      "Vve 7\n",
      "빠 놔 3\n",
      "대마흡연 이센스 6\n",
      "c2thestar 4\n",
      "용쮸루 15\n",
      "김관욱엄마신수진 31\n",
      "기쌈미 4\n",
      "서  식 3\n",
      "Lotto 3\n",
      "뭉성호 8\n",
      "Kelly Sweet 16\n",
      "조 급 히 5\n",
      "찐지버거 3\n",
      "뱅신마스터 4\n",
      "뒹굴기가몸에베인 12\n",
      "Winner Team 22\n",
      "고덕산 3\n",
      "CJUNN 3\n",
      "흰털원숭이 8\n",
      "xui xuia xo 4\n",
      "나넘이쁘지 4\n",
      "구미zero 4\n",
      "뜌박이 4\n",
      "전설의 민지 4\n",
      "1otto 5\n",
      "천무익조 4\n",
      "신 성 호 4\n",
      "쁘띠or 4\n",
      "홍맹큉 11\n",
      "슈인드어 3\n",
      "리짜오시 3\n",
      "스오리븐 8\n",
      "방 증 6\n",
      "난 빙 4\n",
      "왜뭐정글탓 3\n",
      "보뇽곤듀 3\n",
      "볼까자 3\n"
     ]
    }
   ],
   "source": [
    "for item in a.items():\n",
    "    if item[1] > 2:\n",
    "        print(item[0], item[1])"
   ]
  },
  {
   "cell_type": "code",
   "execution_count": null,
   "metadata": {},
   "outputs": [],
   "source": []
  }
 ],
 "metadata": {
  "kernelspec": {
   "display_name": "Python 3",
   "language": "python",
   "name": "python3"
  },
  "language_info": {
   "codemirror_mode": {
    "name": "ipython",
    "version": 3
   },
   "file_extension": ".py",
   "mimetype": "text/x-python",
   "name": "python",
   "nbconvert_exporter": "python",
   "pygments_lexer": "ipython3",
   "version": "3.6.2"
  }
 },
 "nbformat": 4,
 "nbformat_minor": 2
}
