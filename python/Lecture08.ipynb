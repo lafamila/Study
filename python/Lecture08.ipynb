{
 "cells": [
  {
   "cell_type": "markdown",
   "metadata": {},
   "source": [
    "# <함수와 입출력>\n",
    "## - Function & Standard Input/Output\n",
    "\n",
    "똑같은 내용과 기능을 수행할 때 반복적으로 사용되는 가치있는 부분을 묶어서 입력값과 결과값을 돌려주는 방식을 함수라고 한다.<br>\n",
    "<b>def</b> 라는 keyword를 사용한다.<br>\n",
    "<b>def 함수이름( 매개변수1, 매개변수2, ... ):</b><br>\n",
    "&nbsp;&nbsp;&nbsp;&nbsp;<b>수행할 명령1</b><br>\n",
    "&nbsp;&nbsp;&nbsp;&nbsp;<b>수행할 명령2</b><br>\n",
    "&nbsp;&nbsp;&nbsp;&nbsp;...<br>\n",
    "&nbsp;&nbsp;&nbsp;&nbsp;<b>return 결과</b>(optional)<br>\n",
    "\n",
    "와 같이 사용한다."
   ]
  },
  {
   "cell_type": "code",
   "execution_count": 1,
   "metadata": {
    "collapsed": false
   },
   "outputs": [
    {
     "name": "stdout",
     "output_type": "stream",
     "text": [
      "7\n"
     ]
    }
   ],
   "source": [
    "def sum(a, b):\n",
    "    return a + b\n",
    "\n",
    "x = 3\n",
    "y = 4\n",
    "\n",
    "z = sum(x, y)\n",
    "print z"
   ]
  },
  {
   "cell_type": "markdown",
   "metadata": {},
   "source": [
    "매개변수나 결과값을 리턴하지 않는 함수도 가능하며, 정해지지 않은 개수의 매개변수를 입력받는 함수는 다음과 같이 작성할 수 있다.<br>\n",
    "<b>def 함수이름( \\*매개변수 ):</b><br>\n",
    "&nbsp;&nbsp;&nbsp;&nbsp;<b>수행할 명령1</b><br>\n",
    "&nbsp;&nbsp;&nbsp;&nbsp;<b>수행할 명령2</b><br>\n",
    "&nbsp;&nbsp;&nbsp;&nbsp;...<br>\n",
    "&nbsp;&nbsp;&nbsp;&nbsp;<b>return 결과</b>(optional)<br>\n",
    "<br> \\*매개변수는 여러개의 매개변수를 묶어서 tuple 형식으로 저장한다"
   ]
  },
  {
   "cell_type": "code",
   "execution_count": 2,
   "metadata": {
    "collapsed": false
   },
   "outputs": [
    {
     "name": "stdout",
     "output_type": "stream",
     "text": [
      "1\n",
      "3\n",
      "10\n"
     ]
    }
   ],
   "source": [
    "def sum( *a ):\n",
    "    sum = 0\n",
    "    for i in a:\n",
    "        sum = sum + i\n",
    "    return sum\n",
    "\n",
    "print sum(1)\n",
    "print sum(1, 2)\n",
    "print sum(1, 2, 3, 4)"
   ]
  },
  {
   "cell_type": "markdown",
   "metadata": {},
   "source": [
    "매개변수에 초깃값을 미리 설정하여 함수를 호출할 때 매개변수가 제공되지 않으면 자동으로 값을 대입하는 방법도 있다.<br>\n",
    "<b>def 함수이름( 매개변수1, 매개변수2 = 값, ... ):</b><br>\n",
    "&nbsp;&nbsp;&nbsp;&nbsp;<b>수행할 명령1</b><br>\n",
    "&nbsp;&nbsp;&nbsp;&nbsp;<b>수행할 명령2</b><br>\n",
    "&nbsp;&nbsp;&nbsp;&nbsp;...<br>\n",
    "&nbsp;&nbsp;&nbsp;&nbsp;<b>return 결과</b>(optional)<br>"
   ]
  },
  {
   "cell_type": "code",
   "execution_count": 4,
   "metadata": {
    "collapsed": false
   },
   "outputs": [
    {
     "name": "stdout",
     "output_type": "stream",
     "text": [
      "1\n",
      "3\n",
      "3\n"
     ]
    }
   ],
   "source": [
    "def sum( a, b = 0):\n",
    "    return a + b\n",
    "\n",
    "print sum(1)\n",
    "print sum(1, 2)\n",
    "print sum(1, b=2)"
   ]
  },
  {
   "cell_type": "markdown",
   "metadata": {},
   "source": [
    "사용자 입출력은 사용자로부터 값을 입력받거나 값을 사용자에게 출력하는 방법이다.<br>\n",
    "입력 : <b>input(\"질문\")</b><br>\n",
    "출력 : <b>print(값)</b>"
   ]
  }
 ],
 "metadata": {
  "kernelspec": {
   "display_name": "Python 2",
   "language": "python",
   "name": "python2"
  },
  "language_info": {
   "codemirror_mode": {
    "name": "ipython",
    "version": 2
   },
   "file_extension": ".py",
   "mimetype": "text/x-python",
   "name": "python",
   "nbconvert_exporter": "python",
   "pygments_lexer": "ipython2",
   "version": "2.7.13"
  }
 },
 "nbformat": 4,
 "nbformat_minor": 0
}
