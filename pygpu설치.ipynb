{
 "cells": [
  {
   "cell_type": "markdown",
   "metadata": {},
   "source": [
    "# Theano 설치 후 pygpu 가 import 되지 않을때"
   ]
  },
  {
   "cell_type": "markdown",
   "metadata": {},
   "source": [
    "virtualenv 를 쓰고있다면, conda install pygpu , 혹은 conda install theano pygpu로 설치할 수 없어 git을 통해 직접 pygpu 소스코드를 다운받아야 한다."
   ]
  },
  {
   "cell_type": "markdown",
   "metadata": {},
   "source": [
    "<strong> git clone https://github.com/Theano/libgpuarray.git<br/>\n",
    " cd libgpuarray<br/>\n",
    " <br/>\n",
    " mkdir Build<br/>\n",
    " cd Build</strong>"
   ]
  },
  {
   "cell_type": "markdown",
   "metadata": {},
   "source": [
    "먼저 libgpuarray를 설치한다. PREFIX 뒤에 자신의 venv 경로를 입력한다"
   ]
  },
  {
   "cell_type": "markdown",
   "metadata": {},
   "source": [
    "<strong>cmake .. -DCMAKE_INSTALL_PREFIX=/home/nayoung/venv/local -DCMAKE_BUILD_TYPE=Release<br/>\n",
    "<br/>\n",
    "make<br/>\n",
    "make install<br/></strong>"
   ]
  },
  {
   "cell_type": "markdown",
   "metadata": {},
   "source": [
    "마지막으로 pygpu를 venv 안에 설치하기 위해 경로를 재설정하고 설치한다."
   ]
  },
  {
   "cell_type": "markdown",
   "metadata": {},
   "source": [
    "<strong>\n",
    "export CPATH=\\$CPATH:/home/nayoung/venv/local/include<br/>\n",
    "export LIBRARY_PATH=\\$LIBRARY_PATH:/home/nayoung/venv/local/lib<br/>\n",
    "export LD_LIBRARY_PATH=\\$LD_LIBRARY_PATH:/home/nayoung/venv/local/lib<br/>\n",
    "<br/>\n",
    "python setup.py build<br/>\n",
    "python setup.py install --prefix /home/nayoung/venv/local<br/>\n",
    "</strong>"
   ]
  },
  {
   "cell_type": "code",
   "execution_count": null,
   "metadata": {},
   "outputs": [],
   "source": []
  }
 ],
 "metadata": {
  "kernelspec": {
   "display_name": "Python 3",
   "language": "python",
   "name": "python3"
  },
  "language_info": {
   "codemirror_mode": {
    "name": "ipython",
    "version": 3
   },
   "file_extension": ".py",
   "mimetype": "text/x-python",
   "name": "python",
   "nbconvert_exporter": "python",
   "pygments_lexer": "ipython3",
   "version": "3.6.2"
  }
 },
 "nbformat": 4,
 "nbformat_minor": 2
}
